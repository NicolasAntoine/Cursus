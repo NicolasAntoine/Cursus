{
 "cells": [
  {
   "cell_type": "markdown",
   "metadata": {},
   "source": [
    "## Question 1\n",
    "\n",
    "Perform the following action in  numpy :\n",
    " - import numpy\n",
    " - create a vector a of 4 elements containing [1,2,3,4] with the \"arange\" function\n",
    " - create a vector b of 4 elements with the \"ones\" function   \n",
    " - build a matrix M by taking the outer product (np.outer) of a and b\n",
    " - print the shape of the matrix M   \n",
    " - print the diagonal of the matrix M\n",
    " - print the trace of the matrix M\n",
    " - subtract a matrix D to the matrix M such that its trace become 0, call it N\n",
    " - what is the mean value of N along each row, each columns, overall the entire matrix ?\n",
    " - normalize the matrix N such that all its elements are less than 1\n",
    "    \n",
    "\n"
   ]
  },
  {
   "cell_type": "code",
   "execution_count": 1,
   "metadata": {},
   "outputs": [
    {
     "name": "stdout",
     "output_type": "stream",
     "text": [
      "(4, 4)\n",
      "[1 2 3 4]\n",
      "10\n",
      "[[0 1 1 1]\n",
      " [2 0 2 2]\n",
      " [3 3 0 3]\n",
      " [4 4 4 0]]\n",
      "0\n",
      "[0.75 1.5  2.25 3.  ]\n",
      "[2.25 2.   1.75 1.5 ]\n",
      "1.875\n",
      "[[0.         0.03333333 0.03333333 0.03333333]\n",
      " [0.06666667 0.         0.06666667 0.06666667]\n",
      " [0.1        0.1        0.         0.1       ]\n",
      " [0.13333333 0.13333333 0.13333333 0.        ]]\n"
     ]
    }
   ],
   "source": [
    "import numpy as np\n",
    "a = np.arange(1,5,1)\n",
    "b = np.ones((1,4),int)[0]\n",
    "M = np.outer(a,b)\n",
    "print(np.shape(M))\n",
    "print(np.diagonal(M))\n",
    "print(np.trace(M))\n",
    "D = np.diag(np.array([1,2,3,4]))\n",
    "N = M - D\n",
    "print(N)\n",
    "print(np.trace(N))\n",
    "mean_row = np.mean(N,axis=1)\n",
    "print(mean_row)\n",
    "mean_col = np.mean(N,axis=0)\n",
    "print(mean_col)\n",
    "mean_all = np.mean(N)\n",
    "print(mean_all)\n",
    "sum_all = mean_all*np.prod(np.shape(M))\n",
    "N = N/(sum_all)\n",
    "print(N)"
   ]
  },
  {
   "cell_type": "markdown",
   "metadata": {},
   "source": [
    "## Question 2\n",
    "\n",
    "Perform the following operations with numpy and matplotlib:\n",
    " - tell jupyter that you are going to use matplotlib inline with the magic: %matplotlib inline\n",
    " - import numpy and matplotlib\n",
    " - create a vector of type np.float32 that ranges from -pi to +pi in steps of 0.01\n",
    " - Use the broadcasting feature of numpy to create a vector $x=16 {sin}^3 (t)$\n",
    " - Use the broadcasting feature of numpy to create a vector $y=13 {cos}(t) - 5 {cos}(2t) - 2{cos}(3t) - {cos}(4t)$ - Draw the shape x vs y using matplotlib \"plot\" function\n",
    " - Add label to your axes, a title and a legend to the figure\n"
   ]
  },
  {
   "cell_type": "code",
   "execution_count": 2,
   "metadata": {
    "ExecuteTime": {
     "end_time": "2019-09-23T04:47:38.593340Z",
     "start_time": "2019-09-23T04:47:38.146666Z"
    }
   },
   "outputs": [
    {
     "data": {
      "text/plain": [
       "<matplotlib.legend.Legend at 0x7f18749361d0>"
      ]
     },
     "execution_count": 2,
     "metadata": {},
     "output_type": "execute_result"
    },
    {
     "data": {
      "image/png": "[encoded data removed]",
      "text/plain": [
       "<Figure size 432x288 with 1 Axes>"
      ]
     },
     "metadata": {
      "needs_background": "light"
     },
     "output_type": "display_data"
    }
   ],
   "source": [
    "%matplotlib inline\n",
    "import numpy as np\n",
    "import matplotlib.pyplot as plt\n",
    "\n",
    "t = np.arange(-np.pi, np.pi, 0.01)\n",
    "x=16*np.sin(t)**3\n",
    "y=13*np.cos(t) - 5*np.cos(2*t) - 2*np.cos(3*t) - np.cos(4*t)\n",
    "\n",
    "plt.plot(x, y)\n",
    "plt.xlabel('x axis label')\n",
    "plt.ylabel('y axis label')\n",
    "plt.title('Sine and Cosine')\n",
    "plt.legend(['Magic Shape'])"
   ]
  },
  {
   "cell_type": "markdown",
   "metadata": {},
   "source": [
    "## Question 3\n",
    "\n",
    "Can you write the numbers 27, 52 and 129 in unsigned integer with 8bits (uint8) binary representation ?\n",
    "\n",
    "Can you do the same for -27, -52 and -129 in signed integer with 8bits (int8) binary representation ?\n"
   ]
  },
  {
   "cell_type": "code",
   "execution_count": null,
   "metadata": {},
   "outputs": [],
   "source": [
    "\"\"\" \n",
    "      | 128 | 64 | 32 | 16 | 8 | 4 | 2 | 1 |\n",
    "27:      0     0    0    1   1   0   1   1\n",
    "52:      0     0    1    1   0   1   0   0\n",
    "129      1     0    0    0   0   0   0   1\n",
    "\n",
    "      |-128 |\n",
    "-27:     1     1    1    0   0   1   0   1\n",
    "-52:     1     1    0    0   1   1   0   0\n",
    "-129:  not possible\n",
    "\"\"\""
   ]
  },
  {
   "cell_type": "markdown",
   "metadata": {},
   "source": [
    "## Question 4\n",
    "\n",
    "Can you write the number 33.6875 in\n",
    "\n",
    "- fixed point representation with 3 bits after the coma ?\n",
    "- fixed point representation with 5 bits after the coma ?\n",
    "- floating point representation with binary32 encoding (1bit for sign, 8bits for the exponent, 23bits for the significand) ?\n"
   ]
  },
  {
   "cell_type": "code",
   "execution_count": 3,
   "metadata": {},
   "outputs": [
    {
     "data": {
      "text/plain": [
       "'\\n    \\n   1) k = 3 -> 33.6875 * 2**3 = 269.5 -> not an integer -> impossible to represent without rounding error.\\n   \\n       Two choices: a) round up: represent 270 -> we actually round 33.6875 to 33.75\\n                   | 1024 | 512 | 256 | 128 | 64 | 32 | 16 | 8 | 4 | 2 | 1 |\\n                       0     0     1     0     0    0    0   1   1   1   0 \\n                    b) round down: represent 269 -> we actually round 33.6875 to 33.625\\n                   | 1024 | 512 | 256 | 128 | 64 | 32 | 16 | 8 | 4 | 2 | 1 |\\n                       0     0     1     0     0    0    0   1   1   0   1 \\n   \\n   2) k = 5 -> 33.6875 * 2**5 = 1078  -> integer -> we can represent it without error\\n          | 1024 | 512 | 256 | 128 | 64 | 32 | 16 | 8 | 4 | 2 | 1 |\\n              1     0     0     0     0    1    1   0   1   1   0 \\n              \\n   3) 33.6875 = (-1)**b_31 * (1.b_22 b_21 ... b_0)_2 * 2** [(b_30..b_23)_2 - 127]\\n           a) b_31 = 0\\n           b) Normalize 33.6875 = 1.052734375 * 2**5 => [(b_30..b_23)_2 - 127] = 5 => (b_30..b_23)_2 = 132 \\n               => (b_30..b_23) = 1000 0100\\n           c) Represent 1.052734375: 1.052734375*2**9 = 539 => (1.b_22 b_21 ... b_0) = 1 0 0 0 0 1 1 0 1 1 000 ...\\n               => (b_22 b_21 ... b_0) = 0000 1101 1000 0000...\\n           d) Concat all bits: 0100 0010 0000 0110 1100 0000 0000 0000\\n'"
      ]
     },
     "execution_count": 3,
     "metadata": {},
     "output_type": "execute_result"
    }
   ],
   "source": [
    "\"\"\"\n",
    "    \n",
    "   1) k = 3 -> 33.6875 * 2**3 = 269.5 -> not an integer -> impossible to represent without rounding error.\n",
    "   \n",
    "       Two choices: a) round up: represent 270 -> we actually round 33.6875 to 33.75\n",
    "                   | 1024 | 512 | 256 | 128 | 64 | 32 | 16 | 8 | 4 | 2 | 1 |\n",
    "                       0     0     1     0     0    0    0   1   1   1   0 \n",
    "                    b) round down: represent 269 -> we actually round 33.6875 to 33.625\n",
    "                   | 1024 | 512 | 256 | 128 | 64 | 32 | 16 | 8 | 4 | 2 | 1 |\n",
    "                       0     0     1     0     0    0    0   1   1   0   1 \n",
    "   \n",
    "   2) k = 5 -> 33.6875 * 2**5 = 1078  -> integer -> we can represent it without error\n",
    "          | 1024 | 512 | 256 | 128 | 64 | 32 | 16 | 8 | 4 | 2 | 1 |\n",
    "              1     0     0     0     0    1    1   0   1   1   0 \n",
    "              \n",
    "   3) 33.6875 = (-1)**b_31 * (1.b_22 b_21 ... b_0)_2 * 2** [(b_30..b_23)_2 - 127]\n",
    "           a) b_31 = 0\n",
    "           b) Normalize 33.6875 = 1.052734375 * 2**5 => [(b_30..b_23)_2 - 127] = 5 => (b_30..b_23)_2 = 132 \n",
    "               => (b_30..b_23) = 1000 0100\n",
    "           c) Represent 1.052734375: 1.052734375*2**9 = 539 => (1.b_22 b_21 ... b_0) = 1 0 0 0 0 1 1 0 1 1 000 ...\n",
    "               => (b_22 b_21 ... b_0) = 0000 1101 1000 0000...\n",
    "           d) Concat all bits: 0100 0010 0000 0110 1100 0000 0000 0000\n",
    "\"\"\""
   ]
  },
  {
   "cell_type": "markdown",
   "metadata": {},
   "source": [
    "## Question 5 \n",
    "\n",
    "You want to store real numbers using fixed-point representation (yes, you want!). What minimum scaling factor $2^k$ (=k bits after the coma) would you need to be able to represent the number 0.1 with less than 5% relative error?\n",
    "\n",
    "We define the relative error RE between an approximation $a$ and the correct value $b$ as $\\frac{|a-b|}{|b|}$.\n",
    "\n",
    "Hint: For a scaling factor , find the representation of 0.1. Try different values for $k$ to see how the relative error changes."
   ]
  },
  {
   "cell_type": "code",
   "execution_count": 4,
   "metadata": {},
   "outputs": [
    {
     "name": "stdout",
     "output_type": "stream",
     "text": [
      "[[ 1.        0.2       0.        1.        1.        4.      ]\n",
      " [ 2.        0.4       0.        1.        1.        1.5     ]\n",
      " [ 3.        0.8       0.        1.        1.        0.25    ]\n",
      " [ 4.        1.6       1.        0.375     2.        0.25    ]\n",
      " [ 5.        3.2       3.        0.0625    4.        0.25    ]\n",
      " [ 6.        6.4       6.        0.0625    7.        0.09375 ]\n",
      " [ 7.       12.8      12.        0.0625   13.        0.015625]]\n"
     ]
    }
   ],
   "source": [
    "\"\"\"\n",
    "    For a given scaling factor k, an a real number n, we can store n without error iff n*2**k is an integer.\n",
    "    If this is not the case, we can encode n by floor(n*2**k) or ceiling(n*2**k), with some relative error defined\n",
    "    as (n*2**k - encoded_value)/(n*2**k).\n",
    "    \n",
    "          |   0.1*2**k  | floor() |   RE   | ceiling() |   RE   |\n",
    "    k = 1 :     0.2         0        100%        1        400%\n",
    "    k = 2 :     0.4         0        100%        1        150%\n",
    "    k = 3 :     0.8         0        100%        1         25%\n",
    "    k = 4 :     1.6         1        37.5%       2         25%\n",
    "    k = 5 :     3.2         3        6.25%       4         25%\n",
    "    k = 6 :     6.4         6        6.25%       7        9.375%\n",
    "    k = 7 :     12.8        12       6.25%       13      [1.5625%] <----\n",
    "\n",
    "\"\"\"\n",
    "import numpy as np\n",
    "\n",
    "ks = np.arange(1,8,1)\n",
    "b = 0.1\n",
    "real = b*2**ks\n",
    "rounded = (np.floor(real), np.ceil(real))\n",
    "re = np.abs(real-rounded)/real\n",
    "matrix = np.c_[ks,real,rounded[0],re[0],rounded[1],re[1]]\n",
    "\n",
    "print(matrix)"
   ]
  },
  {
   "cell_type": "markdown",
   "metadata": {},
   "source": [
    "## Question 6\n",
    "\n",
    "We have seen in lecture 1 that the order of operations can be important when working with floating-point numbers.\n",
    "Consider now the following situation: You have a numpy vector (=array of rank 1) of positive floating-point values. You know that the list contains very small positive values and also very large positive values.\n",
    "Now, you want to write a program to calculate the sum of all values in the list. \n",
    "\n",
    "Is the order of the values important for the result? \n",
    "If yes, how can you improve the result?"
   ]
  },
  {
   "cell_type": "code",
   "execution_count": 5,
   "metadata": {},
   "outputs": [
    {
     "name": "stdout",
     "output_type": "stream",
     "text": [
      "1e+16\n",
      "1.0000000000000002e+16\n"
     ]
    }
   ],
   "source": [
    "\"\"\"\n",
    "    Yes, if one tries to sum a very large value and a very small one, the sum might get approximated to the exact\n",
    "    value of the large one. Ex: 10**10 + 1 will be rounded as 10^10 => if you have a large array with the first\n",
    "    value equal to 10^10 then 10^7 values equal to 1, the sum will be computed as ((10^10+1)+1+...) = (10^10+1)+...\n",
    "    = 10^10 + ... = 10^10\n",
    "    \n",
    "    One solution is to sort the array by increasing value. In our example, the 10^7 values of 1 are summed first\n",
    "    without rounding error. Then, 10^7 + 10^10 can be computed without error as well.\n",
    "\n",
    "\"\"\"\n",
    "def smart_sum(array):\n",
    "    array = np.sort(array)\n",
    "    return sum(array)\n",
    "\n",
    "test_array = np.array([10**16,1,1],float) \n",
    "print(sum(test_array))\n",
    "print(smart_sum(test_array))"
   ]
  }
 ],
 "metadata": {
  "kernelspec": {
   "display_name": "Python 3",
   "language": "python",
   "name": "python3"
  },
  "language_info": {
   "codemirror_mode": {
    "name": "ipython",
    "version": 3
   },
   "file_extension": ".py",
   "mimetype": "text/x-python",
   "name": "python",
   "nbconvert_exporter": "python",
   "pygments_lexer": "ipython3",
   "version": "3.6.6"
  },
  "varInspector": {
   "cols": {
    "lenName": 16,
    "lenType": 16,
    "lenVar": 40
   },
   "kernels_config": {
    "python": {
     "delete_cmd_postfix": "",
     "delete_cmd_prefix": "del ",
     "library": "var_list.py",
     "varRefreshCmd": "print(var_dic_list())"
    },
    "r": {
     "delete_cmd_postfix": ") ",
     "delete_cmd_prefix": "rm(",
     "library": "var_list.r",
     "varRefreshCmd": "cat(var_dic_list()) "
    }
   },
   "types_to_exclude": [
    "module",
    "function",
    "builtin_function_or_method",
    "instance",
    "_Feature"
   ],
   "window_display": false
  }
 },
 "nbformat": 4,
 "nbformat_minor": 2
}
