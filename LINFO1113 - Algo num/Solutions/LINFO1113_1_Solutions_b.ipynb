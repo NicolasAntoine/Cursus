{
 "cells": [
  {
   "cell_type": "markdown",
   "metadata": {},
   "source": [
    "# Error and Error Propagation"
   ]
  },
  {
   "cell_type": "markdown",
   "metadata": {},
   "source": [
    "## Question 1\n",
    "\n",
    "[CODE] How many term would we need to sum in the following series to garantee a trucation error bellow $10^{-10}$:\n",
    " - $\\sin(x) = x - \\frac{x^3}{3!} +  \\frac{x^5}{5!} - ... $ for $x \\in [-\\pi, \\pi]$\n",
    " - $\\exp(x) = 1 + x + \\frac{x^2}{2!} + \\frac{x^3}{3!} + ... $ for $x \\in [-1, 1]$\n",
    " - $\\ln(1+x) = x - \\frac{x^2}{2} + \\frac{x^3}{3} - \\frac{x^4}{4} + ... $ for $x \\in ]0, 1[$\n",
    "    "
   ]
  },
  {
   "cell_type": "markdown",
   "metadata": {},
   "source": [
    "**Solution**\n",
    "\n",
    "We need:\n",
    " - 11\n",
    " - 14\n",
    " - 1495  \n",
    "\n",
    "terms to guarantee a truncation error bellow $10^{-10}$"
   ]
  },
  {
   "cell_type": "code",
   "execution_count": 1,
   "metadata": {},
   "outputs": [
    {
     "name": "stdout",
     "output_type": "stream",
     "text": [
      "1.087647940462011e-11\n",
      "1.2285727990501982e-11\n",
      "9.922329624600934e-11\n"
     ]
    }
   ],
   "source": [
    "import numpy as np\n",
    "\n",
    "def getSinApprox(n):\n",
    "   exponents = np.arange(1,2*n,2)\n",
    "   factorials = exponents\n",
    "   signs = np.ones(n)\n",
    "   signs[np.arange(1,n,2)] = -1\n",
    "   xs = np.arange(-np.pi,np.pi+0.01,0.01)\n",
    "   approx = np.zeros(len(xs))\n",
    "   for i in range(0,n):\n",
    "       approx = approx + (xs**exponents[i]*signs[i]/np.math.factorial(factorials[i]))\n",
    "   return max(abs(approx-np.sin(xs)))\n",
    "print(getSinApprox(11)) \n",
    "\n",
    "def getExpApprox(n):\n",
    "   exponents = np.arange(0,n,1)\n",
    "   factorials = exponents\n",
    "   signs = np.ones(n)\n",
    "   xs = np.arange(-1,1+0.01,0.01)\n",
    "   approx = np.zeros(len(xs))\n",
    "   \n",
    "   for i in range(0,n):\n",
    "       approx = approx + ((xs**exponents[i])*signs[i]/np.math.factorial(factorials[i]))\n",
    "   return max(abs(approx-np.exp(xs)))\n",
    "print(getExpApprox(14))\n",
    "\n",
    "def getLnApprox(n):\n",
    "   exponents = np.arange(1,n+1,1)\n",
    "   denoms = np.arange(1,n+1,1)\n",
    "   signs = np.ones(n)\n",
    "   signs[np.arange(1,n,2)] = -1\n",
    "   xs = np.arange(0,1,0.01)\n",
    "   approx = np.zeros(len(xs))\n",
    "   for i in range(0,n):\n",
    "       approx = approx + (xs**exponents[i]*signs[i]/denoms[i])\n",
    "   return max(abs(approx-np.log(xs+1)))\n",
    "print(getLnApprox(1495))"
   ]
  },
  {
   "cell_type": "markdown",
   "metadata": {},
   "source": [
    "## Question 2\n",
    "\n",
    "Assume that $\\tilde{x}=0.937$ has three exact decimals with respect to $x$\n",
    "- 1) What is the absolute error on x ?\n",
    "- 2) What is the relative error on x in % ?\n",
    "\n",
    "If $f(x) = \\sqrt{1-x}$\n",
    "- 3) What is the (maximal) absolute error on f(x) ?\n",
    "- 4) What is the (maximal) relative error on f(x) in % ?\n",
    "\n",
    "Hint:  use partial derivative of f with respect to x\n",
    "\n",
    "\n",
    "Now, Assume that $\\tilde{x}=0.999$ and still has three exact decimals with respect to $x$\n",
    "- 5) What is the (maximal) absolute error on f(x) ?\n",
    "- 6) What is the (maximal) relative error on f(x) in % ?\n",
    "\n",
    "[CODE] Use matplotlib to plot on the same figure:\n",
    "- 7) $f(x)$, $f(x)+|e_f(x)|$ and $f(x)-|e_f(x)|$ for $x \\in [0.9,1[$  (assume $e_x$ is constant ($e_x = 10^{-3}$))\n"
   ]
  },
  {
   "cell_type": "markdown",
   "metadata": {},
   "source": [
    "**Solutions**\n",
    "\n",
    "1) Assuming $\\tilde{x}$ is a representation of $x$ rounded to 3 decimals, we know $x \\in [0.9365, 0.9375]$. Taking the worst case into account, $e_x = \\tilde{x}-x \\le |0.937 - 0.9375| = 5 \\cdot 10^{-4}$\n",
    "\n",
    "2) $\\epsilon_x = \\frac{e_x}{x} \\leq \\frac{5 \\cdot 10^{-4}}{0.9365} \\approx  0.05\\% $\n",
    "\n",
    "3) $e_f \\le \\left|\\frac{\\partial f(x)}{\\partial x}\\right| \\cdot \\left|e_x\\right| = \\left|\\frac{-1}{2\\sqrt{1-x}}\\right| \\cdot \\left|e_x\\right| = \\left|\\frac{-1}{2\\sqrt{1-0.9375}}\\right| \\cdot 5 \\cdot 10^{-4} = 10^{-3} $\n",
    "\n",
    "4) $\\epsilon_f \\le \\frac{e_f}{f} = \\frac{10^{-3}}{0.25} = 0.4\\% $\n",
    "\n",
    "5) $e_f \\leq \\left|\\frac{-1}{2\\sqrt{1-0.9995}}\\right| \\cdot 5 \\cdot 10^{-4} = 1.11 \\cdot 10^{-2} $\n",
    "\n",
    "6) $\\epsilon_f \\le \\frac{1.11 \\cdot 10^{-2}}{0.022} \\approx 50\\% $\n",
    "\n",
    "7) [CODE]"
   ]
  },
  {
   "cell_type": "code",
   "execution_count": 2,
   "metadata": {},
   "outputs": [
    {
     "data": {
      "image/png": "[encoded data removed]",
      "text/plain": [
       "<Figure size 432x288 with 1 Axes>"
      ]
     },
     "metadata": {
      "needs_background": "light"
     },
     "output_type": "display_data"
    }
   ],
   "source": [
    "%matplotlib inline\n",
    "import numpy as np\n",
    "import matplotlib.pyplot as plt\n",
    "\n",
    "x = np.arange(0.97, 0.99999999999, 0.00002)\n",
    "f = np.sqrt(1-x)\n",
    "error = np.abs(-1/(2*np.sqrt(1-x)))*0.001\n",
    "#print(error)\n",
    "plt.plot(x, f,'r')\n",
    "plt.plot(x,f+error,'b')\n",
    "plt.plot(x,f-error,'g')\n",
    "plt.xlabel('x')\n",
    "plt.ylabel('f(x)')\n",
    "#plt.title('Sine and Cosine')\n",
    "plt.legend(['f(x)','f(x)+|e_f|','f(x)-|e_f|'])\n",
    "plt.show()"
   ]
  },
  {
   "cell_type": "markdown",
   "metadata": {
    "ExecuteTime": {
     "end_time": "2019-09-28T05:59:30.485614Z",
     "start_time": "2019-09-28T05:59:30.477395Z"
    }
   },
   "source": [
    "## Question 3\n",
    "\n",
    "How would you propagate the error $e_x, e_y$ and $e_z$ associated to $x$, $y$ and $z$ trhough the function\n",
    "\n",
    "$f(x,y,z) = \\sin(x) \\cdot y^2 + \\frac{z^3}{y} - x + x y z$\n"
   ]
  },
  {
   "cell_type": "markdown",
   "metadata": {},
   "source": [
    "**Solution**\n",
    "\n",
    "$\\left|e_f\\right| \\le \\left|y^2 \\cos(x) - 1 + yz\\right| \\cdot \\left|e_x\\right| + \\left|2 y \\sin(x) - \\frac{z^3}{y^2} + xz\\right| \\cdot \\left|e_y\\right| + \\left| \\frac{3z^2}{y} + xy\\right| \\cdot \\left|e_z\\right|$"
   ]
  },
  {
   "cell_type": "code",
   "execution_count": null,
   "metadata": {},
   "outputs": [],
   "source": []
  },
  {
   "cell_type": "markdown",
   "metadata": {
    "ExecuteTime": {
     "end_time": "2019-09-28T05:49:07.284240Z",
     "start_time": "2019-09-28T05:49:07.274623Z"
    }
   },
   "source": [
    "## Question 4\n",
    "\n",
    "You have a data set of $N$ points: $\\{ x_i \\,|\\, i=1, ..., N \\} $ \n",
    "\n",
    "You want to compute the mean ($\\mu$) and variance ($V$) of the dataset:\n",
    "\n",
    "$\\mu = \\frac{1}{N} \\sum_{i=1}^{n} x_i$\n",
    "\n",
    "$V = \\left( \\frac{1}{N} \\sum_{i=1}^{n} x_i^2 \\right) - \\mu^2$     (formula 1)\n",
    "\n",
    "$V = \\frac{1}{N} \\sum_{i=1}^{n} (x_i - \\mu)^2$     (formula 2)\n",
    "\n",
    "What is the best formula to use when computing the variance if all the $x_i$ values are close to the mean ?\n",
    "\n",
    "[CODE] Do the exercise for $N=7$ with $x_i = 10^{6.1}+i$ for $i \\in \\{1,2,3,4,5,6,7\\}$\n"
   ]
  },
  {
   "cell_type": "code",
   "execution_count": 17,
   "metadata": {},
   "outputs": [
    {
     "name": "stdout",
     "output_type": "stream",
     "text": [
      "[1258926.4 1258927.4]\n",
      "57290.734375\n",
      "0.25\n",
      "0.25\n"
     ]
    }
   ],
   "source": [
    "'''\n",
    " The first formula should not be used because there is a possible strong loss of signification as it substracts two \n",
    " very similar numbers (especially when the variance is low like here). [See slide 64]\n",
    "\n",
    "'''\n",
    "\n",
    "import numpy as np\n",
    "\n",
    "N = 2\n",
    "x = (10**6.1) + np.arange(1, N+1, dtype=np.float32)\n",
    "print(x)\n",
    "\n",
    "mean_x = np.mean(x)\n",
    "\n",
    "V1 = np.mean(x**2) - mean_x**2\n",
    "\n",
    "V2 = np.mean((x-mean_x)**2)\n",
    "\n",
    "#print(x**2)\n",
    "\n",
    "print(V1)\n",
    "print(V2)\n",
    "print(np.var(x))"
   ]
  },
  {
   "cell_type": "markdown",
   "metadata": {
    "ExecuteTime": {
     "end_time": "2019-09-28T07:22:33.417606Z",
     "start_time": "2019-09-28T07:22:33.408546Z"
    }
   },
   "source": [
    "## Question 5\n",
    "\n",
    "Do the error propagation on the following float operation (we did multiplication and subtraction in the class room, see slide 63 to 67)\n",
    "See how the absolute (relative) error on the operation depends on the absolute (relative) error of each input parameter.\n",
    "\n",
    "- 1) $x \\otimes y$\n",
    "- 2) $x \\oslash y$\n",
    "- 3) $x \\oplus y$\n",
    "- 4) $x \\ominus y$\n",
    "- 5) $(x\\oplus y)\\oplus z$\n",
    "- 6) $(x\\oplus z)\\oplus y$\n",
    "\n",
    "Hint:\n",
    "- $fl(operation(x,y,z)) = operation(x,y,z) (1+\\epsilon)$\n",
    "- $fl(x) = x (1+\\epsilon')$\n",
    "- $fl(y) = y (1+\\epsilon'')$\n",
    "- $fl(z) = z (1+\\epsilon''')$\n",
    "\n",
    "\n",
    "If $x=1$, $y=10^{-10}$, $z=-1$ and we are working with a number representation in base 10 with 10 decimals (p=10).\n",
    "\n",
    "Can you numerically evaluate the error on:\n",
    "- 7) $(x \\oplus y) \\oplus z$\n",
    "- 8) $(x \\oplus z) \\oplus y$\n",
    "\n",
    "Hint: In our representation (base 10, $p=10$), \n",
    "- $(x\\oplus y)\\oplus z = 0$ \n",
    "- $(x\\oplus z)\\oplus y = 10^{-10}$\n",
    "\n"
   ]
  },
  {
   "cell_type": "markdown",
   "metadata": {},
   "source": [
    "**Solutions**\n",
    "\n",
    "1) $x \\otimes y = fl\\Big(fl(x) \\cdot fl(y)\\Big) = \\Big(fl(x) \\cdot fl(y)\\Big) \\cdot (1+\\epsilon) = x (1+\\epsilon') \\cdot y (1+\\epsilon'') \\cdot (1+\\epsilon) = xy(1+\\epsilon)(1+\\epsilon')(1+\\epsilon'')$ \n",
    " $\\approx xy(1+\\epsilon+\\epsilon'+\\epsilon'')$ \n",
    " \n",
    "$\\Longrightarrow$ relative error: $|\\epsilon+\\epsilon'+\\epsilon''|$\n",
    "\n",
    "Note that we neglected all terms in $\\epsilon^2$, as $\\epsilon<<1$.\n",
    "\n",
    "2) $x \\oslash y = fl\\left(\\frac{fl(x)}{fl(y)}\\right) = \\frac{fl(x)}{fl(y)}(1+\\epsilon) = \\frac{x(1+\\epsilon')}{y(1+\\epsilon'')}(1+\\epsilon) = \n",
    "\\frac{x}{y} \\left( 1+\\frac{(1+\\epsilon')(1+\\epsilon) - (1+\\epsilon'')}{1+\\epsilon''} \\right) \\approx \\frac{x}{y} \\left( 1+\\frac{\\epsilon+\\epsilon'-\\epsilon''}{1+\\epsilon''} \\right) \n",
    "\\approx \\frac{x}{y} (1+\\epsilon+\\epsilon'-\\epsilon'')$\n",
    "\n",
    "$\\Longrightarrow$ relative error: $|\\epsilon+\\epsilon'-\\epsilon''|$\n",
    "\n",
    "3) $x \\oplus y = fl \\Big(fl(x)+fl(y)\\Big) = \\Big(x(1+\\epsilon')+y(1+\\epsilon'')\\Big)(1+\\epsilon) \\approx (x+y) \\left( 1+ \\epsilon + \\epsilon'\\frac{x}{x+y} + \\epsilon''\\frac{y}{x+y} \\right)$\n",
    "\n",
    "4) $x \\ominus y = fl\\Big(fl(x)-fl(y)\\Big) = \\Big(x(1+\\epsilon')-y(1+\\epsilon'')\\Big)(1+\\epsilon) \\approx (x-y) \\left( 1+ \\epsilon + \\epsilon'\\frac{x}{x-y} - \\epsilon''\\frac{y}{x-y} \\right)$\n",
    "\n",
    "5) $(x\\oplus y)\\oplus z = fl\\Big( (x \\oplus y) + fl(z) \\Big) \\approx fl \\Big( (x+y) \\left( 1+ \\epsilon + \\epsilon'\\frac{x}{x+y} + \\epsilon''\\frac{y}{x+y} \\right) + z(1 + \\epsilon''') \\Big) $\n",
    "\n",
    "$\\approx \\Big((x+y) \\left( 1+ \\epsilon + \\epsilon'\\frac{x}{x+y} + \\epsilon''\\frac{y}{x+y} \\right)  + z(1 + \\epsilon''') \\Big) (1 + \\epsilon) \\approx (x+y+z) \\Big( 1 + \\epsilon + \\epsilon\\frac{x+y}{x+y+z} + \\epsilon'\\frac{x}{x+y+z} + \\epsilon'' \\frac{y}{x+y+z} + \\epsilon''' \\frac{z}{x+y+z} \\Big)  $\n",
    "\n",
    "6) $(x\\oplus z)\\oplus y = fl\\Big( (x \\oplus z) + fl(y) \\Big) \\approx fl \\Big( (x+z) \\left( 1+ \\epsilon + \\epsilon'\\frac{x}{x+z} + \\epsilon'''\\frac{z}{x+z} \\right) + y(1 + \\epsilon'') \\Big) $\n",
    "\n",
    "$\\approx \\Big((x+z) \\left( 1+ \\epsilon + \\epsilon'\\frac{x}{x+z} + \\epsilon'''\\frac{z}{x+z} \\right) + y(1 + \\epsilon'')\\Big)\n",
    "(1 + \\epsilon) \\approx(x+y+z) \\Big( 1 + \\epsilon + \\epsilon\\frac{x+z}{x+y+z} + \\epsilon'\\frac{x}{x+y+z} + \\epsilon'' \\frac{y}{x+y+z} + \\epsilon''' \\frac{z}{x+y+z} \\Big)  $\n",
    "\n",
    "7) Setting $\\epsilon=10^{-p}=10^{-10},\\epsilon'=\\epsilon''=\\epsilon'''=0$ (we make no error at all in the representation of x, y and z with p=10), we get $(x\\oplus y)\\oplus z = (x+y+z)(1+1)$. The relative error is thus equal to 100%.\n",
    "\n",
    "8) We now get $(x\\oplus z)\\oplus y = (x+y+z)(1+0)$. The relative error is thus equal to 0%."
   ]
  },
  {
   "cell_type": "code",
   "execution_count": null,
   "metadata": {},
   "outputs": [],
   "source": [
    "\n"
   ]
  }
 ],
 "metadata": {
  "kernelspec": {
   "display_name": "Python 3",
   "language": "python",
   "name": "python3"
  },
  "language_info": {
   "codemirror_mode": {
    "name": "ipython",
    "version": 3
   },
   "file_extension": ".py",
   "mimetype": "text/x-python",
   "name": "python",
   "nbconvert_exporter": "python",
   "pygments_lexer": "ipython3",
   "version": "3.6.6"
  },
  "varInspector": {
   "cols": {
    "lenName": 16,
    "lenType": 16,
    "lenVar": 40
   },
   "kernels_config": {
    "python": {
     "delete_cmd_postfix": "",
     "delete_cmd_prefix": "del ",
     "library": "var_list.py",
     "varRefreshCmd": "print(var_dic_list())"
    },
    "r": {
     "delete_cmd_postfix": ") ",
     "delete_cmd_prefix": "rm(",
     "library": "var_list.r",
     "varRefreshCmd": "cat(var_dic_list()) "
    }
   },
   "types_to_exclude": [
    "module",
    "function",
    "builtin_function_or_method",
    "instance",
    "_Feature"
   ],
   "window_display": false
  }
 },
 "nbformat": 4,
 "nbformat_minor": 2
}
