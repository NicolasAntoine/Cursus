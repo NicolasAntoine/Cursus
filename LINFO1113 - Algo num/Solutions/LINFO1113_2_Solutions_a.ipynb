{
 "cells": [
  {
   "cell_type": "markdown",
   "metadata": {
    "ExecuteTime": {
     "end_time": "2019-09-28T07:36:40.225864Z",
     "start_time": "2019-09-28T07:36:40.222658Z"
    }
   },
   "source": [
    "# System of Linear Equations"
   ]
  },
  {
   "cell_type": "markdown",
   "metadata": {
    "ExecuteTime": {
     "end_time": "2019-09-28T07:52:44.123146Z",
     "start_time": "2019-09-28T07:52:44.111035Z"
    }
   },
   "source": [
    "## Question 1\n",
    "\n",
    "In the classroom we have seen the gauss elimination algorithm,\n",
    "\n",
    "Apply the algorithm by hand to find the solution to the problem\n",
    "$Ax=b$ with:\n",
    "\n",
    "$$A = \\begin{bmatrix} 4 & -2 & 1 \\\\ -2 & 4 & -2 \\\\ 1 & -2 & 4 \\end{bmatrix}$$\n",
    "\n",
    "$$b^T = \\begin{bmatrix} 11 & -16 & 17 \\end{bmatrix}$$\n",
    "\n",
    "\n",
    "Can you write down the algorithm in python ?\n",
    "You can assume for now that the matrix is nice:\n",
    "- all the pivot are not null\n",
    "- there is no need to perform partial pivoting\n",
    "- back substitution is smooth (none of the pivot are null)\n"
   ]
  },
  {
   "cell_type": "code",
   "execution_count": 1,
   "metadata": {
    "ExecuteTime": {
     "end_time": "2019-10-04T07:25:14.903074Z",
     "start_time": "2019-10-04T07:25:14.861570Z"
    }
   },
   "outputs": [
    {
     "name": "stdout",
     "output_type": "stream",
     "text": [
      "Init:\n",
      "A = \n",
      "[[ 4. -2.  1.]\n",
      " [-2.  4. -2.]\n",
      " [ 1. -2.  4.]]\n",
      "b = \n",
      "[ 11. -16.  17.]\n",
      "\n",
      "After forward substitution: \n",
      "A = \n",
      "[[ 1.   -0.5   0.25]\n",
      " [ 0.    1.   -0.5 ]\n",
      " [ 0.    0.    1.  ]]\n",
      "b = \n",
      "[ 2.75 -3.5   3.  ]\n",
      "\n",
      "After backward substitution: \n",
      "A = \n",
      "[[1. 0. 0.]\n",
      " [0. 1. 0.]\n",
      " [0. 0. 1.]]\n",
      "b = \n",
      "[ 1. -2.  3.]\n",
      "\n",
      "Result 2nd implementation: \n",
      "[ 1. -2.  3.]\n"
     ]
    }
   ],
   "source": [
    "import numpy as np\n",
    "\n",
    "\"\"\"\n",
    "This implementation closely follows the algorithm\n",
    "\"\"\"\n",
    "def gaussEliminEasy(a, b):\n",
    "    n = len(b)\n",
    "    # Elimination Phase\n",
    "    for k in range(0, n): #iterate on rows\n",
    "        b[k] = b[k] / a[k, k]\n",
    "        a[k, k:n] = a[k, k:n] / a[k, k]\n",
    "        for i in range(k+1, n): \n",
    "            if a[i,k] != 0.0:\n",
    "                b[i] = b[i] - a[i, k] * b[k]\n",
    "                a[i, k:n] = a[i, k:n] - a[i, k] * a[k, k:n]\n",
    "                \n",
    "    \n",
    "    print(\"After forward substitution: \")\n",
    "    print(\"A = \")\n",
    "    print(a)\n",
    "    print(\"b = \")\n",
    "    print(b)\n",
    "    print()\n",
    "        \n",
    "    # Back substitution\n",
    "    for k in range(n-1, -1, -1):\n",
    "        for i in range(k-1, -1, -1):\n",
    "            b[i] = b[i] - a[i, k] * b[k]\n",
    "            a[i, k:n] = a[i, k:n] - a[i, k] * a[k, k:n]\n",
    "        \n",
    "    print(\"After backward substitution: \")\n",
    "    print(\"A = \")\n",
    "    print(a)\n",
    "    print(\"b = \")\n",
    "    print(b)\n",
    "    print()\n",
    "    return b\n",
    "\n",
    "\n",
    "\n",
    "\"\"\"\n",
    "More advanced implementation\n",
    "\"\"\"\n",
    "def gaussElimin(a, b):\n",
    "    n = len(b)\n",
    "    # Elimination Phase\n",
    "    for k in range(0, n-1): #iterate on rows\n",
    "        for i in range(k+1, n): \n",
    "            if a[i,k] != 0.0:\n",
    "                lam = a[i, k] / a[k, k]\n",
    "                a[i, k+1:n] = a[i, k+1:n] - lam*a[k, k+1:n]\n",
    "                b[i] = b[i] - lam*b[k]            \n",
    "        #a[k+1:,k] = 0 #optional, set element bellow pivot to 0\n",
    "        \n",
    "    # Back substitution\n",
    "    for k in range(n-1, -1, -1):\n",
    "        b[k] = (b[k] - np.dot(a[k, k+1:n], b[k+1:n])) / a[k, k]\n",
    "    return b\n",
    "\n",
    "\n",
    "\n",
    "print(\"Init:\")\n",
    "A = np.array([[4,-2,1], [-2,4,-2], [1,-2,4]], dtype=np.float32)\n",
    "print(\"A = \")\n",
    "print(A)\n",
    "\n",
    "b = np.array([11,-16,17], dtype=np.float32)\n",
    "print(\"b = \")\n",
    "print(b)\n",
    "print()\n",
    "\n",
    "gaussEliminEasy(A, b)\n",
    "\n",
    "print(\"Result 2nd implementation: \")\n",
    "print(gaussElimin(A, b))"
   ]
  },
  {
   "cell_type": "markdown",
   "metadata": {
    "ExecuteTime": {
     "end_time": "2019-10-04T06:43:57.460332Z",
     "start_time": "2019-10-04T06:43:57.449410Z"
    }
   },
   "source": [
    "## Question 2\n",
    "\n",
    "Extend the algorithm to simultaneously solve the system for multiple $b$ vectors.\n",
    "Hint, you can replace the input vector $b$ (dimension $n \\times 1$) by a matrix $B$ (dimension $n \\times m$)\n",
    "\n",
    "Let's use the same matrix $A$:\n",
    "$$A = \\begin{bmatrix} 4 & -2 & 1 \\\\ -2 & 4 & -2 \\\\ 1 & -2 & 4 \\end{bmatrix}$$\n",
    "\n",
    "And the following $b$ vectors:\n",
    "$$b_1^T = \\begin{bmatrix} 11 & -16 & 17 \\end{bmatrix}$$\n",
    "\n",
    "$$b_2^T = \\begin{bmatrix} 11 & -20 & 17 \\end{bmatrix}$$\n",
    "\n",
    "$$b_3^T = \\begin{bmatrix} 1 & 1 & 1 \\end{bmatrix}$$\n",
    "\n",
    "or more efficiently with\n",
    "$$B = \\begin{bmatrix} 11 & 11 & 1 \\\\ -16 & -20 & 1 \\\\ 17 & 17 & 1 \\end{bmatrix}$$\n",
    "\n"
   ]
  },
  {
   "cell_type": "markdown",
   "metadata": {},
   "source": [
    "**Solution**\n",
    "\n",
    "The former code will also work for this case. Indead, instead of considering each element of the $b$ vector, we now need to consider each line of the $B$ matrix. In numpy, 'b[i]' automatically corresponds to the $i$th line in matrix 'b', so no change is required."
   ]
  },
  {
   "cell_type": "code",
   "execution_count": null,
   "metadata": {},
   "outputs": [],
   "source": []
  },
  {
   "cell_type": "markdown",
   "metadata": {
    "ExecuteTime": {
     "end_time": "2019-10-04T07:25:57.272832Z",
     "start_time": "2019-10-04T07:25:57.267918Z"
    }
   },
   "source": [
    "## Question 3\n",
    "\n",
    "Use this simultaneous solver to compute the inverse of the matrix A\n",
    "\n",
    "Verify that $A^{-1} \\times A = I$"
   ]
  },
  {
   "cell_type": "code",
   "execution_count": 52,
   "metadata": {
    "ExecuteTime": {
     "end_time": "2019-10-04T07:25:23.675251Z",
     "start_time": "2019-10-04T07:25:23.660384Z"
    },
    "scrolled": false
   },
   "outputs": [
    {
     "name": "stdout",
     "output_type": "stream",
     "text": [
      "[[0.33333334 0.16666667 0.        ]\n",
      " [0.16666666 0.41666666 0.16666667]\n",
      " [0.         0.16666667 0.33333334]]\n",
      "\n",
      "[[ 1.0000000e+00  0.0000000e+00  0.0000000e+00]\n",
      " [-1.4901161e-08  9.9999988e-01  5.9604645e-08]\n",
      " [ 0.0000000e+00  0.0000000e+00  1.0000000e+00]]\n"
     ]
    }
   ],
   "source": [
    "A = np.array([[4,-2,1], [-2,4,-2], [1,-2,4]], dtype=np.float32)\n",
    "b1 = np.array([1,0,0], dtype=np.float32)\n",
    "b2 = np.array([0,1,0], dtype=np.float32)\n",
    "b3 = np.array([0,0,1], dtype=np.float32)\n",
    "\n",
    "x1 = gaussElimin(A.copy(), b1.copy())\n",
    "x2 = gaussElimin(A.copy(), b2.copy())\n",
    "x3 = gaussElimin(A.copy(), b3.copy())\n",
    "\n",
    "Ai = np.array([x1,x2,x3])\n",
    "\n",
    "print(Ai)\n",
    "print()\n",
    "print(np.matmul(Ai,A))"
   ]
  },
  {
   "cell_type": "markdown",
   "metadata": {
    "ExecuteTime": {
     "end_time": "2019-10-04T07:30:33.568323Z",
     "start_time": "2019-10-04T07:30:33.557149Z"
    }
   },
   "source": [
    "## Question 4\n",
    "\n",
    "Improve your algorithm by adding partial row pivoting\n",
    "and use it solve the system defined by:\n",
    "\n",
    "$$A = \\begin{bmatrix} 0 & -2 & 2 \\\\ -2 & 0 & -20 \\\\ 10 & -2 & 4 \\end{bmatrix}$$\n",
    "\n",
    "$$b^T = \\begin{bmatrix} 1 & 1 & 1 \\end{bmatrix}$$\n"
   ]
  },
  {
   "cell_type": "code",
   "execution_count": 74,
   "metadata": {},
   "outputs": [
    {
     "data": {
      "text/plain": [
       "array([[  0.,  -2.,   2.],\n",
       "       [ -2.,   0., -20.],\n",
       "       [ 10.,  -2.,   4.]], dtype=float32)"
      ]
     },
     "metadata": {},
     "output_type": "display_data"
    },
    {
     "data": {
      "text/plain": [
       "array([1., 1., 1.], dtype=float32)"
      ]
     },
     "metadata": {},
     "output_type": "display_data"
    },
    {
     "data": {
      "text/plain": [
       "array([ 0.01020409, -0.5510204 , -0.05102041], dtype=float32)"
      ]
     },
     "execution_count": 74,
     "metadata": {},
     "output_type": "execute_result"
    }
   ],
   "source": [
    "import numpy as np\n",
    "\n",
    "def gaussEliminPP(a, b):\n",
    "    n = len(b)\n",
    "    # Elimination Phase\n",
    "    for k in range(0, n-1): #iterate on rows\n",
    "        pivot_idx = k + list(np.abs(a[k:n, k])).index(max(np.abs(a[k:n, k])))\n",
    "        temp_a = a[k].copy()\n",
    "        temp_b = b[k].copy()\n",
    "        a[k] = a[pivot_idx]\n",
    "        b[k] = b[pivot_idx]\n",
    "        a[pivot_idx] = temp_a\n",
    "        b[pivot_idx] = temp_b\n",
    "        \n",
    "        for i in range(k+1, n): \n",
    "            if a[i,k] != 0.0:\n",
    "                lam = a[i, k] / a[k, k]\n",
    "                a[i, k+1:n] = a[i, k+1:n] - lam*a[k, k+1:n]\n",
    "                b[i] = b[i] - lam*b[k]            \n",
    "        #a[k+1:,k] = 0 #optional, set element bellow pivot to 0\n",
    "        \n",
    "    # Back substitution\n",
    "    for k in range(n-1, -1, -1):\n",
    "        b[k] = (b[k] - np.dot(a[k, k+1:n], b[k+1:n])) / a[k, k]\n",
    "    return b\n",
    "        \n",
    "\n",
    "A = np.array([[0,-2,2], [-2,0,-20], [10,-2,4]], dtype=np.float32)\n",
    "display(A)\n",
    "\n",
    "b = np.array([1,1,1], dtype=np.float32)\n",
    "display(b)\n",
    "\n",
    "gaussEliminPP(A,b)"
   ]
  },
  {
   "cell_type": "code",
   "execution_count": null,
   "metadata": {},
   "outputs": [],
   "source": []
  }
 ],
 "metadata": {
  "kernelspec": {
   "display_name": "Python 3",
   "language": "python",
   "name": "python3"
  },
  "language_info": {
   "codemirror_mode": {
    "name": "ipython",
    "version": 3
   },
   "file_extension": ".py",
   "mimetype": "text/x-python",
   "name": "python",
   "nbconvert_exporter": "python",
   "pygments_lexer": "ipython3",
   "version": "3.6.6"
  },
  "varInspector": {
   "cols": {
    "lenName": 16,
    "lenType": 16,
    "lenVar": 40
   },
   "kernels_config": {
    "python": {
     "delete_cmd_postfix": "",
     "delete_cmd_prefix": "del ",
     "library": "var_list.py",
     "varRefreshCmd": "print(var_dic_list())"
    },
    "r": {
     "delete_cmd_postfix": ") ",
     "delete_cmd_prefix": "rm(",
     "library": "var_list.r",
     "varRefreshCmd": "cat(var_dic_list()) "
    }
   },
   "types_to_exclude": [
    "module",
    "function",
    "builtin_function_or_method",
    "instance",
    "_Feature"
   ],
   "window_display": false
  }
 },
 "nbformat": 4,
 "nbformat_minor": 2
}
