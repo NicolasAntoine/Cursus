{
 "cells": [
  {
   "cell_type": "markdown",
   "metadata": {
    "ExecuteTime": {
     "end_time": "2019-09-28T07:36:40.225864Z",
     "start_time": "2019-09-28T07:36:40.222658Z"
    }
   },
   "source": [
    "# System of Linear Equations"
   ]
  },
  {
   "cell_type": "markdown",
   "metadata": {
    "ExecuteTime": {
     "end_time": "2019-09-28T07:52:44.123146Z",
     "start_time": "2019-09-28T07:52:44.111035Z"
    }
   },
   "source": [
    "## Question 1\n",
    "\n",
    "In the classroom we have seen the LU decomposition with Doolitle's method,\n",
    "\n",
    "Apply the algorithm by hand to find the solution to the problem\n",
    "$Ax=b$ with:\n",
    "\n",
    "$$A = \\begin{bmatrix} 3 & -3 & 3 \\\\ -3 & 5 & 1 \\\\ 3 & 1 & 5 \\end{bmatrix}$$\n",
    "\n",
    "$$b^T = \\begin{bmatrix} 9 & -7 & 12 \\end{bmatrix}$$\n",
    "\n",
    "\n",
    "Can you write down the algorithm in python ?\n",
    "You can assume for now that the matrix is nice:\n",
    "- all the pivot are not null\n",
    "- there is no need to perform partial pivoting\n",
    "- back substitution is smooth (none of the pivot are null)\n"
   ]
  },
  {
   "cell_type": "code",
   "execution_count": 1,
   "metadata": {},
   "outputs": [
    {
     "name": "stdout",
     "output_type": "stream",
     "text": [
      "A = \n",
      "[[ 3. -3.  3.]\n",
      " [-3.  5.  1.]\n",
      " [ 3.  1.  5.]]\n",
      "LU = \n",
      "[[ 3. -3.  3.]\n",
      " [-1.  2.  4.]\n",
      " [ 1.  2. -6.]]\n",
      "b = \n",
      "[ 9. -7. 12.]\n",
      "x = \n",
      "[3.5        0.66666667 0.16666667]\n"
     ]
    }
   ],
   "source": [
    "import numpy as np\n",
    "\n",
    "\"\"\"\n",
    "LU decomposition corresponds to the Gauss elimination phase where we\n",
    "store the multiplier in the lower triangular portion of A.\n",
    "\"\"\"\n",
    "def LUdecomp(a):\n",
    "    n = len(a)\n",
    "    for k in range(0, n-1):\n",
    "        for i in range(k+1, n): \n",
    "            if a[i,k] != 0.0:\n",
    "                lam = a[i, k] / a[k, k]\n",
    "                a[i, k+1:n] = a[i, k+1:n] - lam*a[k, k+1:n]\n",
    "                a[i, k] = lam # Store the multiplier in the lower triangular\n",
    "    return(a)\n",
    "\n",
    "A = np.array([[3,-3,3], [-3,5,1], [3,1,5]], dtype=np.float64)\n",
    "print(\"A = \")\n",
    "print(A)\n",
    "LU = LUdecomp(A)\n",
    "print(\"LU = \")\n",
    "print(LU)\n",
    "\n",
    "\"\"\"\n",
    "We must only compute LU once; it can then be used to compute Ax = LUx = b for any b.\n",
    "Solve LUx = b by first solving Ly = b using forward substitution,\n",
    "then Ux = y using backward substitution.\n",
    "\"\"\"\n",
    "def LUsolve(a, b):\n",
    "    # a contains the matrix LU\n",
    "    n = len(a)\n",
    "    # Ly = b forward substitution (b is replaced by the solution of y)\n",
    "    for k in range(1, n):\n",
    "        b[k] = b[k] - np.dot(a[k, 0:k], b[0:k])\n",
    "    # Ux = y backward substitution (b = y is replaced by the solution of x)\n",
    "    b[n-1] = b[n-1] / a[n-1, n-1]\n",
    "    for k in range(n-2, -1, -1):\n",
    "        b[k] = (b[k] - np.dot(a[k, k+1:n], b[k+1:n])) / a[k, k]\n",
    "    return b\n",
    "\n",
    "b = np.array([9,-7,12], dtype=np.float64)\n",
    "print(\"b = \")\n",
    "print(b)\n",
    "print(\"x = \")\n",
    "print(LUsolve(LU, b))"
   ]
  },
  {
   "cell_type": "markdown",
   "metadata": {
    "ExecuteTime": {
     "end_time": "2019-10-04T06:43:57.460332Z",
     "start_time": "2019-10-04T06:43:57.449410Z"
    }
   },
   "source": [
    "## Question 2\n",
    "\n",
    "Do the same with a choleski decomposition using:\n",
    "\n",
    "$$A = \\begin{bmatrix} 2 & -1 & 0 \\\\ -1 & 2 & -1 \\\\ 0 & -1 & 2 \\end{bmatrix}$$\n",
    "\n",
    "$$b^T = \\begin{bmatrix} 3 & -1 & 4 \\end{bmatrix}$$"
   ]
  },
  {
   "cell_type": "code",
   "execution_count": 2,
   "metadata": {},
   "outputs": [
    {
     "name": "stdout",
     "output_type": "stream",
     "text": [
      "A = \n",
      "[[ 2. -1.  0.]\n",
      " [-1.  2. -1.]\n",
      " [ 0. -1.  2.]]\n",
      "L = \n",
      "[[ 1.41421356  0.          0.        ]\n",
      " [-0.70710678  1.22474487  0.        ]\n",
      " [ 0.         -0.81649658  1.15470054]]\n",
      "b = \n",
      "[ 3. -1.  4.]\n",
      "x = \n",
      "[2.75 2.5  3.25]\n"
     ]
    }
   ],
   "source": [
    "import numpy as np\n",
    "import math\n",
    "\n",
    "\"\"\"\n",
    "Note that Choleski decomposition requires the matrix A to be\n",
    "symmetric and positive definite.\n",
    "\"\"\"\n",
    "def choleskiDecomp(a):\n",
    "    n = len(a)\n",
    "    for k in range(n):\n",
    "        try:\n",
    "            a[k, k] = math.sqrt(a[k, k] - np.dot(a[k, 0:k], a[k, 0:k])) # Compute diagonal value\n",
    "        except ValueError:\n",
    "            raise Exception(\"Matrix is not positive definite\")\n",
    "        for i in range(k+1, n):\n",
    "            a[i, k] = (a[i, k] - np.dot(a[i, 0:k], a[k, 0:k])) / a[k, k] # Compute off-diagonal values\n",
    "    for k in range(1, n):\n",
    "        a[0:k, k] = 0.0 # Erase upper triangle\n",
    "    return a\n",
    "\n",
    "A = np.array([[2,-1,0], [-1,2,-1], [0,-1,2]], dtype=np.float64)\n",
    "print(\"A = \")\n",
    "print(A)\n",
    "L = choleskiDecomp(A)\n",
    "print(\"L = \")\n",
    "print(L)\n",
    "\n",
    "\"\"\"\n",
    "Solve Ax = L tr(L) x = b by first solving Ly = b using forward substitution,\n",
    "then tr(L) x = y using backward substitution.\n",
    "\"\"\"\n",
    "def choleskiSolve(L, b):\n",
    "    n = len(L)\n",
    "    for k in range(n):\n",
    "        b[k] = (b[k] - np.dot(L[k, 0:k], b[0:k])) / L[k, k]\n",
    "    for k in range(n-1, -1, -1):\n",
    "        b[k] = (b[k] - np.dot(L[k+1:n, k], b[k+1:n])) / L[k, k]\n",
    "    return b\n",
    "\n",
    "b = np.array([3,-1,4], dtype=np.float64)\n",
    "print(\"b = \")\n",
    "print(b)\n",
    "print(\"x = \")\n",
    "print(choleskiSolve(L, b))"
   ]
  },
  {
   "cell_type": "markdown",
   "metadata": {
    "ExecuteTime": {
     "end_time": "2019-10-04T07:25:57.272832Z",
     "start_time": "2019-10-04T07:25:57.267918Z"
    }
   },
   "source": [
    "## Question 3\n",
    "\n",
    "Improve your LU-decomposition algorithm (with Doolitle's), to include row pivoting\n",
    "\n",
    "Hint:  you need to remember the row permutation that you applied in the decomposition phase and apply the same one on the 'b' vector in the solving phase.\n",
    "\n",
    "Use your algorithm to solve the system defined by:\n",
    "\n",
    "$$A = \\begin{bmatrix} 0.6 & -0.4 & 1.0 \\\\ -0.3 & 0.2 & 0.5 \\\\ 0.6 & -1.0 & 0.5 \\end{bmatrix}$$\n",
    "\n",
    "$$b^T = \\begin{bmatrix} 1.0 & 1.0 & 1.0 \\end{bmatrix}$$\n"
   ]
  },
  {
   "cell_type": "code",
   "execution_count": 4,
   "metadata": {},
   "outputs": [
    {
     "name": "stdout",
     "output_type": "stream",
     "text": [
      "A = \n",
      "[[ 3. -3.  3.]\n",
      " [-3.  5.  1.]\n",
      " [ 3.  1.  5.]]\n",
      "LU = \n",
      "[[ 3.  -3.   3. ]\n",
      " [ 1.   4.   2. ]\n",
      " [-1.   0.5  3. ]]\n",
      "Pivoting order: [0, 2]\n",
      "b = \n",
      "[ 9. -7. 12.]\n",
      "x = \n",
      "[3.5        0.66666667 0.16666667]\n"
     ]
    }
   ],
   "source": [
    "import numpy as np\n",
    "\n",
    "\"\"\"\n",
    "Perform pivoting and store the indices of the lines that where pivoted in rp\n",
    "\"\"\"\n",
    "def LUdecompRP(a):\n",
    "    n = len(a)\n",
    "    rp = []\n",
    "    for k in range(0, n-1):\n",
    "        pivot_idx = k + list(np.abs(a[k:n, k])).index(max(np.abs(a[k:n, k])))\n",
    "        temp_a = a[k].copy()\n",
    "        a[k] = a[pivot_idx]\n",
    "        a[pivot_idx] = temp_a\n",
    "        rp.append(pivot_idx)\n",
    "        \n",
    "        for i in range(k+1, n): \n",
    "            if a[i,k] != 0.0:\n",
    "                lam = a[i, k] / a[k, k]\n",
    "                a[i, k+1:n] = a[i, k+1:n] - lam*a[k, k+1:n]\n",
    "                a[i, k] = lam # Store the multiplier in the lower triangular\n",
    "    return(a, rp)\n",
    "\n",
    "A = np.array([[3,-3,3], [-3,5,1], [3,1,5]], dtype=np.float64)\n",
    "print(\"A = \")\n",
    "print(A)\n",
    "LU, rp = LUdecompRP(A)\n",
    "print(\"LU = \")\n",
    "print(LU)\n",
    "print(\"Pivoting order: \" + str(rp))\n",
    "\n",
    "\"\"\"\n",
    "Iterate through rp to perform the pivoting of b before solving LUx = b\n",
    "\"\"\"\n",
    "def LUsolveRP(a, b, rp):\n",
    "    n = len(a)\n",
    "    for k in range(len(rp)):\n",
    "        temp_b = b[k].copy()\n",
    "        b[k] = b[rp[k]]\n",
    "        b[rp[k]] = temp_b\n",
    "        \n",
    "    for k in range(1, n):\n",
    "        b[k] = b[k] - np.dot(a[k, 0:k], b[0:k])\n",
    "    b[n-1] = b[n-1] / a[n-1, n-1]\n",
    "    for k in range(n-2, -1, -1):\n",
    "        b[k] = (b[k] - np.dot(a[k, k+1:n], b[k+1:n])) / a[k, k]\n",
    "    return b\n",
    "\n",
    "b = np.array([9,-7,12], dtype=np.float64)\n",
    "print(\"b = \")\n",
    "print(b)\n",
    "print(\"x = \")\n",
    "print(LUsolveRP(LU, b, rp))"
   ]
  },
  {
   "cell_type": "markdown",
   "metadata": {},
   "source": [
    "## Question 4\n",
    "\n",
    "Compute the inverse of the following matrices:\n",
    "\n",
    "$$A = \\begin{bmatrix} 0.6 & -0.4 & 1.0 \\\\ -0.3 & 0.2 & 0.5 \\\\ 0.6 & -1.0 & 0.5 \\end{bmatrix}$$\n",
    "\n",
    "$$A = \\begin{bmatrix} 1 & 2 & 4 \\\\ 1 & 3 & 9 \\\\ 1 & 4 & 16 \\end{bmatrix}$$\n",
    "\n",
    "$$A = \\begin{bmatrix} 4 & -1 & 0 \\\\ -1 & 4 & -1 \\\\ 0 & -1 & 4 \\end{bmatrix}$$\n",
    "\n",
    "Which algorithm are you going to use and why ?\n",
    "\n",
    "If we define the error on the inversion by:\n",
    "    $error = max( AA^{-1} - I ) $\n",
    "\n",
    "Are you getting smaller error when row pivoting is considered ?    \n",
    "\n",
    "Solutions:\n",
    "\n",
    "$A_1$ and $A_2$ are non-symmetric $\\rightarrow$ Doolitle's. $A_3$ is symmetric $\\rightarrow$ Choleski.\n"
   ]
  },
  {
   "cell_type": "code",
   "execution_count": 5,
   "metadata": {},
   "outputs": [
    {
     "name": "stdout",
     "output_type": "stream",
     "text": [
      "nan\n",
      "0.0\n",
      "2.9802322e-08\n",
      "5.9604645e-08\n",
      "0.0\n",
      "2.9802322e-08\n"
     ]
    },
    {
     "name": "stderr",
     "output_type": "stream",
     "text": [
      "/home/vhamer/.local/venvs/spyder/lib/python3.6/site-packages/ipykernel_launcher.py:12: RuntimeWarning: divide by zero encountered in float_scalars\n",
      "  if sys.path[0] == '':\n",
      "/home/vhamer/.local/venvs/spyder/lib/python3.6/site-packages/ipykernel_launcher.py:36: RuntimeWarning: invalid value encountered in true_divide\n"
     ]
    }
   ],
   "source": [
    "import numpy as np\n",
    "\n",
    "A_1 = np.array([[0.6,-0.4,1.0], [-0.3,0.2,0.5], [0.6,-1.0,0.5]], dtype=np.float32)\n",
    "A_2 = np.array([[1,2,4], [1,3,9], [1,4,16]], dtype=np.float32)\n",
    "A_3 = np.array([[4,-1,0], [-1,4,-1], [0,-1,4]], dtype=np.float32)\n",
    "b = np.array([[1,0,0],[0,1,0],[0,0,1]],dtype=np.float32)\n",
    "\n",
    "print(np.max(A_1 @ LUsolve(LUdecomp(A_1.copy()),b.copy()) - b))\n",
    "print(np.max(A_2 @ LUsolve(LUdecomp(A_2.copy()),b.copy()) - b))\n",
    "print(np.max(A_3 @ LUsolve(LUdecomp(A_3.copy()),b.copy()) - b))\n",
    "\n",
    "LU, rp =  LUdecompRP(A_1.copy())\n",
    "Ainv = LUsolveRP(LU,b.copy(),rp)\n",
    "\n",
    "print(np.max(A_1 @ Ainv - b))\n",
    "\n",
    "LU, rp =  LUdecompRP(A_2.copy())\n",
    "Ainv = LUsolveRP(LU,b.copy(),rp)\n",
    "\n",
    "print(np.max(A_2 @ Ainv - b))\n",
    "\n",
    "LU, rp =  LUdecompRP(A_3.copy())\n",
    "Ainv = LUsolveRP(LU,b.copy(),rp)\n",
    "\n",
    "print(np.max(A_3 @ Ainv - b))"
   ]
  },
  {
   "cell_type": "markdown",
   "metadata": {
    "ExecuteTime": {
     "end_time": "2019-10-04T07:30:33.568323Z",
     "start_time": "2019-10-04T07:30:33.557149Z"
    }
   },
   "source": [
    "## Question 5\n",
    "\n",
    "Can you write an algorithm to solve the following system using Gauss-Seidel algorithm without relaxation ?\n",
    "\n",
    "$$A = \\begin{bmatrix} 4 & -1 & 1 \\\\ -1 & 4 & -2 \\\\ 1 & -2 & 4 \\end{bmatrix}$$\n",
    "\n",
    "$$b^T = \\begin{bmatrix} 12 & -1 & 5 \\end{bmatrix}$$\n",
    "\n",
    "\n"
   ]
  },
  {
   "cell_type": "code",
   "execution_count": 6,
   "metadata": {},
   "outputs": [
    {
     "name": "stdout",
     "output_type": "stream",
     "text": [
      "[3.   0.5  0.75]\n",
      "[2.9375    0.859375  0.9453125]\n",
      "[2.97851562 0.96728516 0.98901367]\n",
      "[2.99456787 0.9931488  0.99793243]\n",
      "[2.99880409 0.99866724 0.9996326 ]\n",
      "[2.99975866 0.99975596 0.99993832]\n",
      "[2.99995441 0.99995776 0.99999028]\n",
      "[2.99999187 0.99999311 0.99999859]\n",
      "[2.99999863 0.99999895 0.99999982]\n"
     ]
    },
    {
     "data": {
      "text/plain": [
       "array([2.99999863, 0.99999895, 0.99999982])"
      ]
     },
     "execution_count": 6,
     "metadata": {},
     "output_type": "execute_result"
    }
   ],
   "source": [
    "import numpy as np\n",
    "\n",
    "def gauss_seidel(A, b, epsilon=1e-10):\n",
    "    n = A.shape[0]\n",
    "    x = np.zeros(n)\n",
    "    iter = 0\n",
    "    diff = float(\"Inf\")\n",
    "    while(diff > epsilon):\n",
    "        previous_x = x.copy()\n",
    "        for i in range(0, n):\n",
    "            x[i] = 1/A[i, i] * (b[i] - sum(A[i, 0:i] * x[0:i]) - sum(A[i, (i+1):n] * x[(i+1):n]))\n",
    "                                                                            # Equivalent to use x or previous_x here\n",
    "                                                                            # since x[i+1:n] has not been updated yet\n",
    "        print(x)\n",
    "        iter += 1\n",
    "        diff = sum((x - previous_x)**2)\n",
    "    return x\n",
    "    \n",
    "A = np.array([[4,-1,1], [-1,4,-2], [1,-2,4]], dtype=np.float32)\n",
    "b = np.array([12,-1,5])\n",
    "\n",
    "gauss_seidel(A,b)"
   ]
  },
  {
   "cell_type": "markdown",
   "metadata": {},
   "source": [
    "## Question 6\n",
    "\n",
    "Compute the inverse of the matrices defined in question Q4 using your Gauss-Seidel algorithm,\n",
    "Compare the error you get with those obtained in Q4\n",
    "Compare the CPU time difference to get the inverse using Gauss-Seidel and LU decomposition\n",
    "\n",
    "Hint:  To get visible time difference repeat the inversion computation a large number of time (i.e. a thousand time)"
   ]
  },
  {
   "cell_type": "code",
   "execution_count": 16,
   "metadata": {},
   "outputs": [
    {
     "name": "stdout",
     "output_type": "stream",
     "text": [
      "[[0.2678566  0.0714283  0.01785707]\n",
      " [0.0714283  0.28571415 0.07142854]\n",
      " [0.0178566  0.0714283  0.26785707]]\n",
      "0.050612688064575195\n",
      "[[ 1.66666658 -2.22222212 -1.11111104]\n",
      " [ 1.24999995 -0.8333333  -1.6666666 ]\n",
      " [ 0.5         1.          0.        ]]\n",
      "0.0039560794830322266\n"
     ]
    }
   ],
   "source": [
    "import numpy as np\n",
    "import time\n",
    "\n",
    "def gauss_seidel(A, b, epsilon=1e-10):\n",
    "    n = A.shape[0]\n",
    "    x = np.zeros(n)\n",
    "    iter = 0\n",
    "    diff = float(\"Inf\")\n",
    "    while(diff > epsilon):\n",
    "        previous_x = x.copy()\n",
    "        for i in range(0,n):\n",
    "            x[i] = 1/A[i, i] * (b[i] - sum(A[i,0:i] *x[0:i]) - sum(A[i,(i+1):n]*x[(i+1):n]))\n",
    "        iter += 1\n",
    "        diff = sum((x-previous_x)**2)\n",
    "    return np.array([x])\n",
    "    \n",
    "A = np.array([[1,2,4], [1,3,9], [1,4,16]], dtype=np.float32)\n",
    "b = np.identity(3)\n",
    "\n",
    "start = time.time()\n",
    "\n",
    "for i in range(0,100):\n",
    "    x = np.concatenate((gauss_seidel(A_3,b[0,:]),gauss_seidel(A_3,b[1,:]),gauss_seidel(A_3,b[2,:])),axis=0)\n",
    "    \n",
    "print(x)\n",
    "print(time.time()-start)\n",
    "\n",
    "start = time.time()\n",
    "for i in range(0,100):\n",
    "    LU, rp =  LUdecompRP(A_1.copy())\n",
    "    Ainv = LUsolveRP(LU,b.copy(),rp)\n",
    "    \n",
    "print(Ainv)\n",
    "print(time.time()-start)"
   ]
  },
  {
   "cell_type": "code",
   "execution_count": null,
   "metadata": {},
   "outputs": [],
   "source": []
  }
 ],
 "metadata": {
  "kernelspec": {
   "display_name": "Python 3",
   "language": "python",
   "name": "python3"
  },
  "language_info": {
   "codemirror_mode": {
    "name": "ipython",
    "version": 3
   },
   "file_extension": ".py",
   "mimetype": "text/x-python",
   "name": "python",
   "nbconvert_exporter": "python",
   "pygments_lexer": "ipython3",
   "version": "3.6.6"
  },
  "varInspector": {
   "cols": {
    "lenName": 16,
    "lenType": 16,
    "lenVar": 40
   },
   "kernels_config": {
    "python": {
     "delete_cmd_postfix": "",
     "delete_cmd_prefix": "del ",
     "library": "var_list.py",
     "varRefreshCmd": "print(var_dic_list())"
    },
    "r": {
     "delete_cmd_postfix": ") ",
     "delete_cmd_prefix": "rm(",
     "library": "var_list.r",
     "varRefreshCmd": "cat(var_dic_list()) "
    }
   },
   "types_to_exclude": [
    "module",
    "function",
    "builtin_function_or_method",
    "instance",
    "_Feature"
   ],
   "window_display": false
  }
 },
 "nbformat": 4,
 "nbformat_minor": 2
}
