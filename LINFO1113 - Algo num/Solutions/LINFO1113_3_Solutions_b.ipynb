{
 "cells": [
  {
   "cell_type": "markdown",
   "metadata": {
    "ExecuteTime": {
     "end_time": "2019-09-28T07:36:40.225864Z",
     "start_time": "2019-09-28T07:36:40.222658Z"
    }
   },
   "source": [
    "# Interpollation (CUBIC SPLINE)"
   ]
  },
  {
   "cell_type": "code",
   "execution_count": 3,
   "metadata": {
    "ExecuteTime": {
     "end_time": "2019-11-03T14:14:03.956952Z",
     "start_time": "2019-11-03T14:14:03.608556Z"
    }
   },
   "outputs": [],
   "source": [
    "%matplotlib inline\n",
    "import numpy as np\n",
    "import matplotlib.pyplot as plt\n",
    "\n",
    "\n",
    "#from last week (just for comparison)\n",
    "\n",
    "def Newton_coeffts(xData,yData):\n",
    "    m = len(xData)  # Number of data points\n",
    "    a = yData.copy()\n",
    "    for k in range(1,m):\n",
    "        a[k:m] = (a[k:m] - a[k-1])/(xData[k:m] - xData[k-1])\n",
    "    return a\n",
    "\n",
    "\n",
    "def Newton_evalPoly(a,xData,x):\n",
    "    n = len(xData) - 1  # Degree of polynomial\n",
    "    p = a[n]\n",
    "    for k in range(1,n+1):\n",
    "        p = a[n-k] + (x -xData[n-k])*p\n",
    "    return p"
   ]
  },
  {
   "cell_type": "markdown",
   "metadata": {
    "ExecuteTime": {
     "end_time": "2019-10-25T09:13:06.667523Z",
     "start_time": "2019-10-25T09:13:06.654875Z"
    }
   },
   "source": [
    "## Question 1\n",
    "\n",
    "Given the points:\n",
    "\n",
    "| x | y |\n",
    "| --- | --- |\n",
    "| 0 | 0 |\n",
    "| 1 | 2 |\n",
    "| 2 | 1 |\n",
    "\n",
    "- (a) Determine the natural cubic spline that passes through the points (do it by hand)\n",
    "- (b) Verify that the two cubics have the same first and second derivative at $x=1$\n",
    "- (c) Implement the algorithm to compute the cubic spline given the points\n",
    "- (d) Draw the cubic spline interpolation in $[0,2]$ and compare it with the interpollation obtained with newton method\n",
    "\n",
    "Hint: There are actually two cubics:  One valid on $[0,1]$ and another one valid on $[1,2]$.\n",
    "\n",
    "Solutions:\n",
    "\n",
    "(a) $k_{i-1} + 4k_i + k_{i+1} = \\frac{6}{h^2}(y_{i-1}-2y_i+y_{i+1}), 1\\ge i \\ge n-1, h=1$\n",
    "\n",
    "$\\Rightarrow$\n",
    "\n",
    "$k_0=0$\n",
    "\n",
    "$k_0 + 4k_1 + k_2 = 6(0-4+1) = -18$\n",
    "\n",
    "$k_2=0$\n",
    "\n",
    "$\\Rightarrow k_1=-9/2$\n",
    "\n",
    "$f_{i,i+1} = \\frac{k_i}{6}\\Big[ \\frac{(x-x_{i+1})^3}{x_i-x_{i+1}} -(x-x_{i+1})(x_i-x_{i+1})\\Big] - \\frac{k_{i+1}}{6}\\Big[\\frac{(x-x_i)^3}{x_i-x_{i+1}}-(x-x_i)(x_i-x_{i+1})\\Big] + \\frac{y_i(x-x_{i+1})-y_{i+1}(x-x_i)}{x_i-x_{i+1}}$\n",
    "\n",
    "$\\Rightarrow$ $f_{0,1}(x) = \\frac{9}{12}\\Big[\\frac{x^3}{-1}-(x)(-1)\\Big] + \\frac{0-2(x)}{-1} = \\frac{-3x^3}{4} + \\frac{11x}{4}$\n",
    "\n",
    "$f_{1,2}(x) = \\frac{-9}{12}\\Big[\\frac{(x-2)^3}{-1} + (x-2)\\Big] + \\frac{2(x-2)-(x-1)}{-1}=\\frac{9(x-2)^3}{12}-\\frac{9(x-2)}{12}-x+3$\n",
    "\n",
    "We can check that $f_{0,1}(0)=0,f_{0,1}(1)=f_{1,2}(1)=2$ and $f_{1,2}(2)=1$ Also,\n",
    "\n",
    "$f'_{0,1}(x) = \\frac{-9x^2}{4}+\\frac{11}{4}$ and $f'_{1,2}(x)=\\frac{9(x-2)^2}{4}-\\frac{21}{12}$\n",
    "\n",
    "$\\Rightarrow f'_{0,1}(1)=f'_{1,2}(1)=\\frac{1}{2}$\n",
    "\n",
    "Finally,\n",
    "\n",
    "$f''_{0,1}(x)=\\frac{-18x}{4}$ and $f''_{1,2}(x)=\\frac{18(x-2)}{4}$\n",
    "\n",
    "$\\Rightarrow f''_{0,1}(1)=f''_{1,2}(1)=\\frac{-18}{4}$"
   ]
  },
  {
   "cell_type": "code",
   "execution_count": 4,
   "metadata": {
    "ExecuteTime": {
     "end_time": "2019-11-03T14:14:04.914293Z",
     "start_time": "2019-11-03T14:14:04.816150Z"
    }
   },
   "outputs": [],
   "source": [
    "\n",
    "def cubicspline_curvatures(xData,yData):\n",
    "    def LUdecomp3(c,d,e):\n",
    "        n = len(d)\n",
    "        for k in range(1,n):\n",
    "            lam = c[k-1]/d[k-1]\n",
    "            d[k] = d[k] - lam*e[k-1]\n",
    "            c[k-1] = lam\n",
    "        return c,d,e\n",
    "\n",
    "    def LUsolve3(c,d,e,b):\n",
    "        n = len(d)\n",
    "        for k in range(1,n):\n",
    "            b[k] = b[k] - c[k-1]*b[k-1]\n",
    "        b[n-1] = b[n-1]/d[n-1]\n",
    "        for k in range(n-2,-1,-1):\n",
    "            b[k] = (b[k] - e[k]*b[k+1])/d[k]\n",
    "        return b       \n",
    "    \n",
    "    n = len(xData) - 1\n",
    "    c = np.zeros(n)\n",
    "    d = np.ones(n+1)\n",
    "    e = np.zeros(n)\n",
    "    k = np.zeros(n+1)\n",
    "    c[0:n-1] = xData[0:n-1] - xData[1:n]\n",
    "    d[1:n] = 2.0*(xData[0:n-1] - xData[2:n+1])\n",
    "    e[1:n] = xData[1:n] - xData[2:n+1]\n",
    "    k[1:n] =6.0*(yData[0:n-1] - yData[1:n]) \\\n",
    "                 /(xData[0:n-1] - xData[1:n]) \\\n",
    "             -6.0*(yData[1:n] - yData[2:n+1])   \\\n",
    "                 /(xData[1:n] - xData[2:n+1])\n",
    "    LUdecomp3(c,d,e)\n",
    "    LUsolve3(c,d,e,k)\n",
    "    return k\n",
    "\n",
    "def cubicspline_evalSpline(xData,yData,k,x):\n",
    "    \n",
    "    def findSegment(xData,x):\n",
    "        iLeft = 0\n",
    "        iRight = len(xData)- 1\n",
    "        while 1:\n",
    "            if (iRight-iLeft) <= 1: return iLeft\n",
    "            i = int( (iLeft + iRight)/2 )\n",
    "            if x < xData[i]: iRight = i\n",
    "            else: iLeft = i\n",
    "    \n",
    "    i = findSegment(xData,x)\n",
    "    #print(i)\n",
    "    h = xData[i] - xData[i+1]\n",
    "    y = ((x - xData[i+1])**3/h - (x - xData[i+1])*h)*k[i]/6.0 \\\n",
    "      - ((x - xData[i])**3/h - (x - xData[i])*h)*k[i+1]/6.0   \\\n",
    "      + (yData[i]*(x - xData[i+1])                            \\\n",
    "       - yData[i+1]*(x - xData[i]))/h\n",
    "    return y\n",
    "      "
   ]
  },
  {
   "cell_type": "code",
   "execution_count": 5,
   "metadata": {
    "ExecuteTime": {
     "end_time": "2019-11-03T14:14:05.912443Z",
     "start_time": "2019-11-03T14:14:05.406268Z"
    }
   },
   "outputs": [
    {
     "data": {
      "text/plain": [
       "<matplotlib.legend.Legend at 0x7f8f686c3eb8>"
      ]
     },
     "execution_count": 5,
     "metadata": {},
     "output_type": "execute_result"
    },
    {
     "data": {
      "image/png": "[encoded data removed]",
      "text/plain": [
       "<Figure size 864x864 with 1 Axes>"
      ]
     },
     "metadata": {
      "needs_background": "light"
     },
     "output_type": "display_data"
    }
   ],
   "source": [
    "xData = np.array([0,1,2.0])\n",
    "yData = np.array([0,2,1.0])\n",
    "\n",
    "x = np.arange(np.min(xData), np.max(xData)+0.1, 0.1)\n",
    "\n",
    "k = cubicspline_curvatures(xData, yData)\n",
    "y_cubic   = np.array( [cubicspline_evalSpline(xData, yData, k, xi) for xi in x] )\n",
    "\n",
    "coeffts = Newton_coeffts(xData, yData)\n",
    "y_newton  = np.array( [Newton_evalPoly(coeffts, xData, xi) for xi in x] )\n",
    "\n",
    "\n",
    "fig, ax = plt.subplots(figsize=(12, 12))\n",
    "plt.plot(xData, yData, 'o', color=\"black\")\n",
    "plt.xlabel('x')\n",
    "plt.ylabel('y')\n",
    "\n",
    "plt.plot(x, y_cubic , '-', color=\"red\", label=\"Cubic\")   \n",
    "plt.plot(x, y_newton , '-', color=\"blue\", label=\"Newton\")   \n",
    "ax.legend()\n",
    "\n"
   ]
  },
  {
   "cell_type": "markdown",
   "metadata": {},
   "source": [
    "## Question 2\n",
    "\n",
    "Using the same data as above:\n",
    "\n",
    "| x | y |\n",
    "| --- | --- |\n",
    "| 0 | 0 |\n",
    "| 1 | 2 |\n",
    "| 2 | 1 |\n",
    "\n",
    "\n",
    "Change the border condition of the cublic spline,\n",
    "to impose that the first derivative is null at the first and last point instead of the standard $k_0=k_n=0$\n",
    "\n",
    "Hint: This is similar to example 3.8 of the reference book"
   ]
  },
  {
   "cell_type": "markdown",
   "metadata": {},
   "source": [
    "### Solution:\n",
    "\n",
    "with $x_{i-1}-x_{i} = x_{i}-x_{i+1}=-h$\n",
    "\n",
    "1) $f'_{0,1}(x_0)=0$:\n",
    "\n",
    "$\\Large f'_{0,1}(x) = \\frac{k_0}{6} \\left[ \\frac{3(x-x_1)^2}{-h} - (-h) \\right] - \\frac{k_1}{6} \\left[ \\frac{3(x-x_0)^2}{-h} -(-h) \\right] + \\frac{y_0-y_1}{-h} = 0$ \n",
    "\n",
    "$\\Large f'_{0,1}(x_0) = \\frac{k_0}{6} \\left[ -3(-1)^2 +1 \\right] - \\frac{k_1}{6} \\left[ 3(0)^2 +1 \\right] + 2 = 0$ \n",
    "\n",
    "$\\Large \\rightarrow -2k_0 - k_1  + 12 = 0$ \n",
    "\n",
    "2) $f'_{1,2}(x_2)=0$:\n",
    "\n",
    "$\\Large f'_{1,2}(x) = \\frac{k_1}{6} \\left[ \\frac{3(x-x_2)^2}{-h} -(-h) \\right] - \\frac{k_2}{6} \\left[ \\frac{3(x-x_1)^2}{-h} -(-h) \\right] + \\frac{y_1-y_2}{-h} = 0$ \n",
    "\n",
    "$\\Large f'_{1,2}(x_2) = \\frac{k_1}{6} \\left[ -3(0)^2 +1 \\right] - \\frac{k_2}{6} \\left[ -3(1)^2 +1 \\right] - (2-1) = 0$ \n",
    "\n",
    "$\\Large \\rightarrow k_1 + 2k_2 - 6 = 0$ \n",
    "\n",
    "3) We also keep the usual condition for the curvature at $k_1$:\n",
    "\n",
    "$\\Large \\rightarrow k_0 + 4k_1 + k_2 = \\frac{6}{h^2}(y_0-2y_1+y_2) = -18$ \n",
    "\n",
    "\n",
    "Now we should solve the system to find the values of $k_0, k_1, k_2$\n",
    "We will find: \n",
    "- $k_0=10.5$\n",
    "- $k_1=-9$\n",
    "- $k_2=7.5$"
   ]
  },
  {
   "cell_type": "code",
   "execution_count": 4,
   "metadata": {
    "ExecuteTime": {
     "end_time": "2019-11-03T14:58:43.590800Z",
     "start_time": "2019-11-03T14:58:43.555184Z"
    }
   },
   "outputs": [
    {
     "data": {
      "text/plain": [
       "array([[-2., -1.,  0.],\n",
       "       [ 1.,  4.,  1.],\n",
       "       [ 0.,  1.,  2.]], dtype=float32)"
      ]
     },
     "metadata": {},
     "output_type": "display_data"
    },
    {
     "data": {
      "text/plain": [
       "array([-12., -18.,   6.], dtype=float32)"
      ]
     },
     "metadata": {},
     "output_type": "display_data"
    },
    {
     "data": {
      "text/plain": [
       "array([10.5      , -9.       ,  7.5000005], dtype=float32)"
      ]
     },
     "metadata": {},
     "output_type": "display_data"
    }
   ],
   "source": [
    "def gaussEliminPP(a, b):\n",
    "    n = len(b)\n",
    "    # Elimination Phase\n",
    "    for k in range(0, n-1): #iterate on rows\n",
    "        pivot_idx = k + list(np.abs(a[k:n, k])).index(max(np.abs(a[k:n, k])))\n",
    "        temp_a = a[k].copy()\n",
    "        temp_b = b[k].copy()\n",
    "        a[k] = a[pivot_idx]\n",
    "        b[k] = b[pivot_idx]\n",
    "        a[pivot_idx] = temp_a\n",
    "        b[pivot_idx] = temp_b\n",
    "        \n",
    "        for i in range(k+1, n): \n",
    "            if a[i,k] != 0.0:\n",
    "                lam = a[i, k] / a[k, k]\n",
    "                a[i, k+1:n] = a[i, k+1:n] - lam*a[k, k+1:n]\n",
    "                b[i] = b[i] - lam*b[k]            \n",
    "        #a[k+1:,k] = 0 #optional, set element bellow pivot to 0\n",
    "        \n",
    "    # Back substitution\n",
    "    for k in range(n-1, -1, -1):\n",
    "        b[k] = (b[k] - np.dot(a[k, k+1:n], b[k+1:n])) / a[k, k]\n",
    "    return b\n",
    "        \n",
    "\n",
    "A = np.array([[-2,-1,0], [1,4,1], [0,1,2]], dtype=np.float32)\n",
    "display(A)\n",
    "\n",
    "b = np.array([-12,-18,6], dtype=np.float32)\n",
    "display(b)\n",
    "\n",
    "curvatures2 = gaussEliminPP(A,b)\n",
    "display(curvatures2)"
   ]
  },
  {
   "cell_type": "code",
   "execution_count": 8,
   "metadata": {
    "ExecuteTime": {
     "end_time": "2019-11-03T14:59:15.995010Z",
     "start_time": "2019-11-03T14:59:15.501962Z"
    }
   },
   "outputs": [
    {
     "data": {
      "text/plain": [
       "<matplotlib.legend.Legend at 0x1178ba438>"
      ]
     },
     "execution_count": 8,
     "metadata": {},
     "output_type": "execute_result"
    },
    {
     "data": {
      "image/png": "[encoded data removed]",
      "text/plain": [
       "<Figure size 864x864 with 1 Axes>"
      ]
     },
     "metadata": {
      "needs_background": "light"
     },
     "output_type": "display_data"
    }
   ],
   "source": [
    "xData = np.array([0,1,2.0])\n",
    "yData = np.array([0,2,1.0])\n",
    "\n",
    "x = np.arange(np.min(xData), np.max(xData)+0.01, 0.01)\n",
    "\n",
    "k = cubicspline_curvatures(xData, yData)\n",
    "y_cubic   = np.array( [cubicspline_evalSpline(xData, yData, k, xi) for xi in x] )\n",
    "y_cubic2  = np.array( [cubicspline_evalSpline(xData, yData, curvatures2, xi) for xi in x] )\n",
    "\n",
    "fig, ax = plt.subplots(figsize=(12, 12))\n",
    "plt.plot(xData, yData, 'o', color=\"black\")\n",
    "plt.xlabel('x')\n",
    "plt.ylabel('y')\n",
    "\n",
    "plt.plot(x, y_cubic , '-', color=\"red\", label=\"Cubic\")   \n",
    "plt.plot(x, y_cubic2 , '-', color=\"blue\", label=\"Cubic (f'(x_0)=f(x_2)=0)\")   \n",
    "ax.legend()"
   ]
  },
  {
   "cell_type": "markdown",
   "metadata": {
    "ExecuteTime": {
     "end_time": "2019-11-03T15:03:14.032180Z",
     "start_time": "2019-11-03T15:03:14.022931Z"
    }
   },
   "source": [
    "## Question 3\n",
    "\n",
    "Given the points:\n",
    "\n",
    "| x | f(x) |\n",
    "| --- | --- |\n",
    "| 0.2 | 1.150 |\n",
    "| 0.4 | 0.855 |\n",
    "| 0.6 | 0.377 |\n",
    "| 0.8 | -0.266 |\n",
    "| 1.0 | -1.049 |\n",
    "\n",
    "Compute the zero of the function f(x) using natural cubic spline.\n",
    "\n",
    "Hint: Reorder the points such that they are in ascending value of f(x)\n",
    "\n",
    "Solutions:\n",
    "\n",
    "| x | f(x) |\n",
    "| --- | --- |\n",
    "| 1.0 | -1.049 |\n",
    "| 0.8 | -0.266 |\n",
    "| 0.6 | 0.377 |\n",
    "| 0.4 | 0.855 |\n",
    "| 0.2 | 1.150 |\n",
    "\n",
    "$k_0=0$\n",
    "\n",
    "$k_0 + 4k_1 = k_2 = -21$\n",
    "\n",
    "$k_1 + 4k_2 + k_3 = -24.75$\n",
    "\n",
    "$k_2 + 4k_3 + k_4 = -27.45$\n",
    "\n",
    "$k_4=0$\n",
    "\n",
    "$\\Rightarrow k_1 = -4.3473,~k_2=-3.6107,~k_3=-5.9598$\n",
    "\n",
    "$\\Rightarrow f_{1,2}(x) = \\frac{k_1}{6}\\Big[\\frac{(x-0.6)^3}{0.2} -(x-0.6)(0.2)\\Big] - \\frac{k_2}{6}\\Big[\\frac{(x-0.8)^3}{0.2} - (x-0.8)(0.2)\\Big] + \\frac{-0.266(x-0.6)-0.377(x-0.8)}{0.2}$\n",
    "\n",
    "$f_{1,2}(x)=0 \\Rightarrow x \\approx 0.72316$\n"
   ]
  },
  {
   "cell_type": "code",
   "execution_count": 24,
   "metadata": {},
   "outputs": [
    {
     "name": "stdout",
     "output_type": "stream",
     "text": [
      "3\n",
      "-0.266\n",
      "[ 0.         -5.95982143 -3.61071429 -4.34732143  0.        ]\n"
     ]
    },
    {
     "data": {
      "text/plain": [
       "<matplotlib.legend.Legend at 0x7f50e282e1d0>"
      ]
     },
     "execution_count": 24,
     "metadata": {},
     "output_type": "execute_result"
    },
    {
     "data": {
      "image/png": "[encoded data removed]",
      "text/plain": [
       "<Figure size 864x864 with 1 Axes>"
      ]
     },
     "metadata": {
      "needs_background": "light"
     },
     "output_type": "display_data"
    }
   ],
   "source": [
    "xData = np.array([0.2,0.4,0.6,0.8,1])\n",
    "yData = np.array([1.150,0.855,0.377,-0.266,-1.049])\n",
    "\n",
    "x = np.arange(np.min(xData), np.max(xData)+0.1, 0.01)\n",
    "\n",
    "x = np.arange(np.min(xData), np.max(xData)+0.1, 0.1)\n",
    "\n",
    "k = cubicspline_curvatures(xData, yData)\n",
    "#y_cubic   = np.array( [cubicspline_evalSpline(xData, yData, k, xi) for xi in x] )\n",
    "\n",
    "print(cubicspline_evalSpline(xData, yData, k, 0.8))\n",
    "\n",
    "coeffts = Newton_coeffts(xData, yData)\n",
    "y_newton  = np.array( [Newton_evalPoly(coeffts, xData, xi) for xi in x] )\n",
    "\n",
    "print(k)\n",
    "fig, ax = plt.subplots(figsize=(12, 12))\n",
    "plt.plot(xData, yData, 'o', color=\"black\")\n",
    "plt.xlabel('x')\n",
    "plt.ylabel('y')\n",
    "\n",
    "plt.plot(x, y_cubic , '-', color=\"red\", label=\"Cubic\")   \n",
    "plt.plot(x, y_newton , '-', color=\"blue\", label=\"Newton\")   \n",
    "ax.legend()\n"
   ]
  },
  {
   "cell_type": "markdown",
   "metadata": {},
   "source": [
    "# Least Square Fits"
   ]
  },
  {
   "cell_type": "markdown",
   "metadata": {},
   "source": [
    "## Question 4\n",
    "\n",
    "The following table displays the mass M and average fuel consumption $\\phi$ of\n",
    "motor vehicles manufactured by Ford and Honda in 2008. Fit a straight line $\\phi =\n",
    "a + bM$ to the data and compute the standard deviation.\n",
    "\n",
    "|Model | M (kg) | φ (km/liter)|\n",
    "| --- | --- | --- |\n",
    "|Focus| 1198 |11.90|\n",
    "|Crown Victoria |1715 |6.80|\n",
    "|Expedition |2530| 5.53|\n",
    "|Explorer| 2014 |6.38|\n",
    "|F-150 |2136| 5.53|\n",
    "|Fusion| 1492| 8.50|\n",
    "|Taurus| 1652| 7.65|\n",
    "|Fit |1168 |13.60|\n",
    "|Accord |1492 | 9.78|\n",
    "|CR-V |1602| 8.93|\n",
    "|Civic | 1192 |11.90|\n",
    "|Ridgeline | 2045| 6.38|\n",
    "\n"
   ]
  },
  {
   "cell_type": "markdown",
   "metadata": {},
   "source": [
    "**Solution:**\n",
    "\n",
    "$\\bar M = 1686.33$, $\\bar\\phi$ = 8.55$\n",
    "\n",
    "$b = \\frac{\\sum \\phi_i (M_i - \\bar M)}{\\sum M_i (M_i - \\bar M)} = -0.005833$\n",
    "\n",
    "$a = \\bar \\phi - \\bar M b = 18.3860$\n",
    "\n",
    "$\\Longrightarrow \\phi = 18.3860 - 0.005833 M$\n",
    "\n",
    "Standard deviation: $\\sigma = \\sqrt{\\frac{1}{11-1} \\sum (\\phi_{pred} - \\phi_{real})^2} = 1.1644$\n"
   ]
  },
  {
   "cell_type": "markdown",
   "metadata": {},
   "source": [
    "## Question 5\n",
    "\n",
    "Fit a straight line and a quadratic to the data in the following table.\n",
    "\n",
    "| x | y |\n",
    "| --- | --- |\n",
    "| 1.0 | 6.008 |\n",
    "| 2.5 | 15.722 |\n",
    "| 3.5 | 27.130 |\n",
    "| 4.0 | 33.772 |\n",
    "| 1.1 | 5.257 |\n",
    "| 1.8 |9.549 |\n",
    "| 2.2 |11.098 |\n",
    "| 3.7 |28.828|\n",
    "\n",
    "Which is a better fit?\n",
    "\n",
    "Hint:  compute the standard deviation for both"
   ]
  },
  {
   "cell_type": "code",
   "execution_count": 1,
   "metadata": {},
   "outputs": [
    {
     "name": "stdout",
     "output_type": "stream",
     "text": [
      "Degree 1:\n",
      "[-6.18989525  9.43854354]\n",
      "Std dev:\n",
      "1.9429832700254897\n",
      "\n",
      "Degree 2:\n",
      "[ 4.40567377 -1.06889613  2.10811822]\n",
      "Std dev:\n",
      "0.6426759826418788\n",
      "\n"
     ]
    }
   ],
   "source": [
    "import numpy as np\n",
    "import math\n",
    "\n",
    "def choleski(a):\n",
    "    n = len(a)\n",
    "    for k in range(n):\n",
    "        try:\n",
    "            a[k,k] = math.sqrt(a[k,k] - np.dot(a[k,0:k],a[k,0:k]))\n",
    "        except ValueError:\n",
    "            raise Exception('Matrix is not positive definite')\n",
    "        for i in range(k+1,n):\n",
    "            a[i,k] = (a[i,k] - np.dot(a[i,0:k],a[k,0:k]))/a[k,k]\n",
    "    for k in range(1,n): a[0:k,k] = 0.0 #erase upper triangle\n",
    "    return a\n",
    "\n",
    "def choleskiSol(L,b):\n",
    "    n = len(b)\n",
    "  # Solution of [L]{y} = {b}  \n",
    "    for k in range(n):\n",
    "        b[k] = (b[k] - np.dot(L[k,0:k],b[0:k]))/L[k,k]\n",
    "  # Solution of [L_transpose]{x} = {y}      \n",
    "    for k in range(n-1,-1,-1):\n",
    "        b[k] = (b[k] - np.dot(L[k+1:n,k],b[k+1:n]))/L[k,k]\n",
    "    return b\n",
    "\n",
    "\"\"\"\n",
    "Polunomial fit implementation\n",
    "\"\"\"\n",
    "def polyFit(xData, yData, m):\n",
    "    a = np.zeros((m+1, m+1))\n",
    "    b = np.zeros(m+1)\n",
    "    s = np.zeros(2*m+1)\n",
    "    for i in range(len(xData)):\n",
    "        temp = yData[i]\n",
    "        for j in range(m+1):\n",
    "            b[j] += temp\n",
    "            temp *= xData[i]\n",
    "        temp = 1.0\n",
    "        for j in range(2*m+1):\n",
    "            s[j] += temp\n",
    "            temp *= xData[i]\n",
    "    for i in range(m+1):\n",
    "        for j in range(m+1):\n",
    "            a[i, j] = s[i+j]\n",
    "    return choleskiSol(choleski(a), b)\n",
    "\n",
    "\n",
    "xData = np.array([1., 2.5, 3.5, 4., 1.1, 1.8, 2.2, 3.7])\n",
    "yData = np.array([6.008, 15.722, 27.130, 33.772, 5.257, 9.549, 11.098, 28.828])\n",
    "\n",
    "print(\"Degree 1:\")\n",
    "coefs = polyFit(xData, yData, 1)\n",
    "print(coefs)\n",
    "print(\"Std dev:\")\n",
    "yPred = coefs[0] + coefs[1] * xData\n",
    "print(np.sqrt((1/len(xData)) * np.sum(np.square(yPred - yData))))\n",
    "print()\n",
    "\n",
    "print(\"Degree 2:\")\n",
    "coefs = polyFit(xData, yData, 2)\n",
    "print(coefs)\n",
    "print(\"Std dev:\")\n",
    "yPred = coefs[0] + coefs[1] * xData + coefs[2] * np.square(xData)\n",
    "print(np.sqrt((1/len(xData)) * np.sum(np.square(yPred - yData))))\n",
    "print()"
   ]
  },
  {
   "cell_type": "markdown",
   "metadata": {},
   "source": [
    "## Question 6\n",
    "\n",
    "Use multi-variate linear regression to determine the function f(x, y) = a + bx + cy that fits the following data:\n",
    "\n",
    "| x | y | z |\n",
    "| --- | --- | --- |\n",
    "| 0 | 0 | 1.42 |\n",
    "| 0 | 1 | 1.85 |\n",
    "| 1 | 0 | 0.78 |\n",
    "| 2 | 0 | 0.18 |\n",
    "| 2 | 1 | 0.60 |\n",
    "| 2 | 2 | 1.05 |\n",
    "\n",
    "What is the standard deviation of this parametrization ?\n",
    "\n",
    "Hint: we did a similar problem during the lecture"
   ]
  },
  {
   "cell_type": "code",
   "execution_count": 1,
   "metadata": {
    "ExecuteTime": {
     "end_time": "2019-11-03T15:24:28.232356Z",
     "start_time": "2019-11-03T15:24:28.182012Z"
    }
   },
   "outputs": [
    {
     "name": "stdout",
     "output_type": "stream",
     "text": [
      "Coeficients: [[ 1.4132558 ]\n",
      " [-0.62139535]\n",
      " [ 0.43755814]]\n",
      "STD= 0.010979181821382017\n"
     ]
    }
   ],
   "source": [
    "\n",
    "import numpy as np\n",
    "import math\n",
    "\n",
    "def choleski(a):\n",
    "    n = len(a)\n",
    "    for k in range(n):\n",
    "        try:\n",
    "            a[k,k] = math.sqrt(a[k,k] - np.dot(a[k,0:k],a[k,0:k]))\n",
    "        except ValueError:\n",
    "            raise Exception('Matrix is not positive definite')\n",
    "        for i in range(k+1,n):\n",
    "            a[i,k] = (a[i,k] - np.dot(a[i,0:k],a[k,0:k]))/a[k,k]\n",
    "    for k in range(1,n): a[0:k,k] = 0.0 #erase upper triangle\n",
    "    return a\n",
    "\n",
    "def choleskiSol(L,b):\n",
    "    n = len(b)\n",
    "  # Solution of [L]{y} = {b}  \n",
    "    for k in range(n):\n",
    "        b[k] = (b[k] - np.dot(L[k,0:k],b[0:k]))/L[k,k]\n",
    "  # Solution of [L_transpose]{x} = {y}      \n",
    "    for k in range(n-1,-1,-1):\n",
    "        b[k] = (b[k] - np.dot(L[k+1:n,k],b[k+1:n]))/L[k,k]\n",
    "    return b\n",
    "\n",
    "\n",
    "\n",
    "\n",
    "x = np.array([0,0,1,2,2,2], dtype=np.float32)\n",
    "y = np.array([0,1,0,0,1,2], dtype=np.float32)\n",
    "z = np.array([1.42,1.85,0.78,0.18,0.60,1.05], dtype=np.float32)\n",
    "\n",
    "x = x[:,np.newaxis] #column vector\n",
    "y = y[:,np.newaxis] #column vector\n",
    "z = z[:,np.newaxis] #column vector\n",
    "\n",
    "\n",
    "X = np.hstack([np.ones(shape=x.shape), x, y])\n",
    "\n",
    "XTX = np.matmul( np.transpose(X), X)\n",
    "XTY = np.matmul( np.transpose(X), z)\n",
    "\n",
    "L = choleski(XTX.copy())\n",
    "A = choleskiSol(L, XTY.copy())\n",
    "print(\"Coeficients:\", A)\n",
    "\n",
    "\n",
    "z_OLS = np.matmul(X,A)\n",
    "#print(np.hstack([z_OLS,z,z_OLS-z]))\n",
    "\n",
    "\n",
    "ols = np.sum(np.square(z_OLS-z))\n",
    "std = np.sqrt(ols / (x.shape[0] - A.shape[0]) )\n",
    "print(\"STD=\",std)\n"
   ]
  },
  {
   "cell_type": "code",
   "execution_count": null,
   "metadata": {},
   "outputs": [],
   "source": []
  }
 ],
 "metadata": {
  "kernelspec": {
   "display_name": "Python 3",
   "language": "python",
   "name": "python3"
  },
  "language_info": {
   "codemirror_mode": {
    "name": "ipython",
    "version": 3
   },
   "file_extension": ".py",
   "mimetype": "text/x-python",
   "name": "python",
   "nbconvert_exporter": "python",
   "pygments_lexer": "ipython3",
   "version": "3.6.6"
  },
  "varInspector": {
   "cols": {
    "lenName": 16,
    "lenType": 16,
    "lenVar": 40
   },
   "kernels_config": {
    "python": {
     "delete_cmd_postfix": "",
     "delete_cmd_prefix": "del ",
     "library": "var_list.py",
     "varRefreshCmd": "print(var_dic_list())"
    },
    "r": {
     "delete_cmd_postfix": ") ",
     "delete_cmd_prefix": "rm(",
     "library": "var_list.r",
     "varRefreshCmd": "cat(var_dic_list()) "
    }
   },
   "types_to_exclude": [
    "module",
    "function",
    "builtin_function_or_method",
    "instance",
    "_Feature"
   ],
   "window_display": false
  }
 },
 "nbformat": 4,
 "nbformat_minor": 2
}
