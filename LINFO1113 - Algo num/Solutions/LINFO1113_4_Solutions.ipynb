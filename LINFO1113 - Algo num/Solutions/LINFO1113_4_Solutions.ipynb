{
 "cells": [
  {
   "cell_type": "markdown",
   "metadata": {
    "ExecuteTime": {
     "end_time": "2019-09-28T07:36:40.225864Z",
     "start_time": "2019-09-28T07:36:40.222658Z"
    }
   },
   "source": [
    "# Root of equations"
   ]
  },
  {
   "cell_type": "code",
   "execution_count": 1,
   "metadata": {
    "ExecuteTime": {
     "end_time": "2019-11-08T15:41:41.842162Z",
     "start_time": "2019-11-08T15:41:41.441536Z"
    }
   },
   "outputs": [
    {
     "data": {
      "image/png": "[encoded data removed]",
      "text/plain": [
       "<Figure size 864x864 with 1 Axes>"
      ]
     },
     "metadata": {
      "needs_background": "light"
     },
     "output_type": "display_data"
    }
   ],
   "source": [
    "%matplotlib inline\n",
    "import numpy as np\n",
    "import matplotlib.pyplot as plt\n",
    "\n",
    "def VisualInspection(ax, f, a, b, dx, **kwargs):\n",
    "    x = np.arange(a,b+dx,dx)\n",
    "    y = f(x)\n",
    "    plt.plot(x, y, **kwargs)\n",
    "    plt.xlabel('x')\n",
    "    plt.ylabel('y')\n",
    "    ax.axhline(0, color='black', lw=2)\n",
    "\n",
    "def f(x): return x**4 + 2*x**3 -7*x**2 + 3\n",
    "def f_sys(x): return x**4-8*x**2+1\n",
    "    \n",
    "fig, ax = plt.subplots(figsize=(12, 12))\n",
    "VisualInspection(ax, f, -4, 2, 0.01, color=\"blue\", linestyle=\"-\")\n",
    "\n",
    "dx = 1\n",
    "x1,x2 = -1,-1\n",
    "\n",
    "#print(x1,x2)\n",
    "x1 = x2\n",
    "x2 = x1 + dx\n",
    "#print(x1,x2)\n",
    "\n"
   ]
  },
  {
   "cell_type": "markdown",
   "metadata": {
    "ExecuteTime": {
     "end_time": "2019-10-25T09:13:06.667523Z",
     "start_time": "2019-10-25T09:13:06.654875Z"
    }
   },
   "source": [
    "## Question 1\n",
    "\n",
    "Implement the root search algorithm that we discussed during the lecture:\n",
    "\n",
    "The algorithm should look for roots of $f(x)$ by looking for sign change in the function $f(x)$ over the interval $[a,b]$.  The algorithm is not meant to precisely identify the root value, but just to aproximately localize the root.\n",
    "\n",
    "In otherwords, the algorithm should return the first interval $(x,x+dx)$ of size dx that contains a root of $f(x)$ over $[a,b]$ or None if there is no root on the domain\n",
    "\n",
    "Use the algotithm to bracket all the real roots of $f(x) = x^4+2x^3-7x^2+3=0$ with an accuracy of 0.01\n",
    "\n",
    "Hint: Determine the domain of the function from a visual inspection first\n",
    "\n"
   ]
  },
  {
   "cell_type": "code",
   "execution_count": 2,
   "metadata": {
    "ExecuteTime": {
     "end_time": "2019-11-08T15:47:48.179056Z",
     "start_time": "2019-11-08T15:47:48.163416Z"
    }
   },
   "outputs": [
    {
     "name": "stdout",
     "output_type": "stream",
     "text": [
      "(-3.8000000000000256, -3.790000000000026)\n",
      "(-0.6200000000000627, -0.6100000000000627)\n",
      "(0.7899999999999382, 0.7999999999999382)\n",
      "(1.6099999999999388, 1.6199999999999388)\n",
      "--------------\n",
      "-0.6180339887498949\n",
      "1.618033988749895\n",
      "-3.79128784747792\n",
      "0.7912878474779199\n"
     ]
    }
   ],
   "source": [
    "from numpy import sign\n",
    "def rootsearch(f,a,b,dx):\n",
    "    x1 = a    \n",
    "    f1 = f(x1)    \n",
    "    while(True):\n",
    "        x2 = x1+dx\n",
    "        f2 = f(x2)\n",
    "        \n",
    "        if(f1*f2<0):\n",
    "            return (x1,x2)\n",
    "        else:\n",
    "            x1 = x2\n",
    "            f1 = f2\n",
    "            \n",
    "        if(x2>b):\n",
    "            return None  \n",
    "        \n",
    "        \n",
    "a = -5\n",
    "b = 2\n",
    "dx = 0.01\n",
    "while True:        \n",
    "    rootbracket = rootsearch(f,a,b,dx)\n",
    "    if(rootbracket):\n",
    "        print(rootbracket)\n",
    "        a = rootbracket[1]\n",
    "    else:\n",
    "        break\n",
    "print(\"--------------\")\n",
    "def f(x): return x**4 + 2*x**3 -7*x**2 + 3\n",
    "def df(x): return 4*x**3 + 6*x**2 -14*x\n",
    "        \n",
    "def newtonRaphson(f,df,a,b,tol=10**-9):\n",
    "    #import error\n",
    "    from numpy import sign\n",
    "    fa = f(a)\n",
    "    if fa == 0.0: return a\n",
    "    fb = f(b)\n",
    "    if fb == 0.0: return b\n",
    "    if sign(fa) == sign(fb): error.err('Root is not bracketed')\n",
    "    x = 0.5*(a+b)\n",
    "    for i in range(30):\n",
    "        fx = f(x)\n",
    "        if fx == 0.0: return x\n",
    "        #Tighten the brackets on the root\n",
    "        if sign(fa) != sign(fx): b = x\n",
    "        else: a = x\n",
    "        #Try a Netwton-Raphson step\n",
    "        dfx = df(x)\n",
    "        #try: dx = -fx/dfx\n",
    "        #except ZeroDivisionError: dx = b - a\n",
    "        dx = -fx/dfx\n",
    "        x = x + dx\n",
    "        #If the result is outside the brackets, use rootSearch\n",
    "        if (b-x)*(x-a) < 0.0:\n",
    "            (x1, x2) = rootsearch(f,a,b,(b-a)/2)\n",
    "            x = (x1+x2)/2\n",
    "        if abs(dx) < tol*max(abs(b),1.0): return x\n",
    "    print('Too many iterations in Newton-Raphoson')\n",
    "    \n",
    "\n",
    "newtonRaphson(f,df,0,1,0.001)\n",
    "import math\n",
    "\n",
    "print(1/2 - math.sqrt(5)/2)\n",
    "print(1/2 + math.sqrt(5)/2)\n",
    "print(-3/2 - math.sqrt(21)/2)\n",
    "print(-3/2 + math.sqrt(21)/2)"
   ]
  },
  {
   "cell_type": "markdown",
   "metadata": {},
   "source": [
    "## Question 2\n",
    "\n",
    "\n",
    "Implement the bisection algorithm and use it in order to refine the location of the roots within their brackets.\n",
    "We want an accuracy of 1e-8 on the root positions\n",
    "\n",
    "How many iterations are necessary to achieve this precision?\n",
    "\n"
   ]
  },
  {
   "cell_type": "code",
   "execution_count": 3,
   "metadata": {
    "ExecuteTime": {
     "end_time": "2019-11-08T15:51:00.863451Z",
     "start_time": "2019-11-08T15:51:00.845895Z"
    }
   },
   "outputs": [
    {
     "name": "stdout",
     "output_type": "stream",
     "text": [
      "number of iterations 20\n",
      "-3.791287846565246\n",
      "number of iterations 20\n",
      "1.6180339860916138\n"
     ]
    }
   ],
   "source": [
    "from numpy import sign\n",
    "import math\n",
    "def bisection(f,x1,x2,tol=1.0e-9, printN=False):\n",
    "    I = 0    \n",
    "    f1 = f(x1)\n",
    "    f2 = f(x2)\n",
    "    while(np.abs(x2-x1)>tol):\n",
    "        I+=1\n",
    "        x3 = 0.5 * (x1+x2)\n",
    "        f3 = f(x3)\n",
    "        if(f1*f3<0):\n",
    "            x2 = x3\n",
    "            f2 = f3\n",
    "        else:\n",
    "            x1 = x3\n",
    "            f1 = f3\n",
    "    if(printN):print(\"number of iterations\", I)\n",
    "    return 0.5 * (x1+x2)\n",
    "\n",
    "print(bisection(f, -3.80, -3.79, 1e-8, printN=True))\n",
    "print(bisection(f, 1.61, 1.62, 1e-8, printN=True))"
   ]
  },
  {
   "cell_type": "markdown",
   "metadata": {
    "ExecuteTime": {
     "end_time": "2019-11-08T15:52:54.655746Z",
     "start_time": "2019-11-08T15:52:54.645159Z"
    }
   },
   "source": [
    "## Question 3\n",
    "\n",
    "Implement the Newton raphson algorithm and use it to find the roots of f with an accuracy of 1e-8.  How many iterations are needed ?\n",
    "\n"
   ]
  },
  {
   "cell_type": "code",
   "execution_count": 5,
   "metadata": {
    "ExecuteTime": {
     "end_time": "2019-11-08T15:56:29.879134Z",
     "start_time": "2019-11-08T15:56:29.862285Z"
    }
   },
   "outputs": [
    {
     "name": "stdout",
     "output_type": "stream",
     "text": [
      "itération 1\n",
      "itération 2\n",
      "(-3.7912878475477663, -3.79128784747792)\n",
      "number of iteration 2\n",
      "1.6180339887498947\n"
     ]
    }
   ],
   "source": [
    "def newtonRaphson(f,df,a,b,tol=1.0e-9):    \n",
    "    x = 0.5*(a + b)        \n",
    "    for i in range(30):\n",
    "        fx = f(x)\n",
    "        if fx == 0.0: \n",
    "            print(\"number of iteration\",i)\n",
    "            return x\n",
    "\n",
    "        dfx = df(x)\n",
    "        dx  = -fx/dfx\n",
    "        x   = x + dx\n",
    "            \n",
    "      # Check for convergence     \n",
    "        if abs(dx) < tol:#*max(abs(b),1.0): \n",
    "            print(\"number of iteration\",i)\n",
    "            return x\n",
    "    print('Too many iterations in Newton-Raphson')\n",
    "    \n",
    "def df(x): return 4*x**3+6*x**2-14*x\n",
    "\n",
    "def newtonRaphsonV(f,df,a,b,tol=1.0e-9):\n",
    "    x0 = (a + b)/2\n",
    "    x1 = x0 - (f(x0)/df(x0))\n",
    "    iter_count = 0\n",
    "    while abs(x1 - x0) >= tol:\n",
    "        iter_count += 1\n",
    "        print(\"itération\", iter_count)\n",
    "        x0 = x1\n",
    "        x1 = x0 - (f(x0)/df(x0))\n",
    "    return (x0, x1)\n",
    "    \n",
    "print(newtonRaphsonV(f,df, -3.8, -3.79, 1e-8))\n",
    "#print(newtonRaphson(f,df, 1.61, 1.62, 1e-8))  \n",
    "\n",
    "\n"
   ]
  },
  {
   "cell_type": "markdown",
   "metadata": {
    "ExecuteTime": {
     "end_time": "2019-11-08T16:01:07.775178Z",
     "start_time": "2019-11-08T16:01:07.760555Z"
    }
   },
   "source": [
    "# Question 4\n",
    "\n",
    "Identify all roots of $x^3 - 1.2x^2 - 8.19x +13.23 = 0$\n",
    "Note: the equation has a double root close to x=2 (check if with visual inspection)\n",
    "\n",
    "- a) use first the bisection algotithm.  Can you get all the roots ?\n",
    "- b) use newtonRaphson algorithm ?"
   ]
  },
  {
   "cell_type": "code",
   "execution_count": 10,
   "metadata": {
    "scrolled": false
   },
   "outputs": [
    {
     "data": {
      "image/png": "[encoded data removed]",
      "text/plain": [
       "<Figure size 864x864 with 1 Axes>"
      ]
     },
     "metadata": {
      "needs_background": "light"
     },
     "output_type": "display_data"
    }
   ],
   "source": [
    "def f4(x): return x**3-1.2*x**2-8.19*x+13.23\n",
    "def df4(x): return 3*x**2-2.4*x-8.19\n",
    "\n",
    "fig, ax = plt.subplots(figsize=(12, 12))\n",
    "VisualInspection(ax, f4, -4, 3, 0.01, color=\"blue\", linestyle=\"-\")"
   ]
  },
  {
   "cell_type": "code",
   "execution_count": 7,
   "metadata": {},
   "outputs": [
    {
     "name": "stdout",
     "output_type": "stream",
     "text": [
      "number of iteration 0\n",
      "-3.0\n",
      "number of iteration 25\n",
      "2.099999997226891\n",
      "------------\n",
      "-3.0000000004656613\n",
      "2.499999999650754\n"
     ]
    }
   ],
   "source": [
    "a = -4\n",
    "b = 3\n",
    "dx = 0.4\n",
    "\n",
    "\n",
    "root=newtonRaphson(f4,df4,-4,-2)\n",
    "print(root)\n",
    "\n",
    "root=newtonRaphson(f4,df4,2,3)\n",
    "print(root)\n",
    "print('------------')\n",
    "root=bisection(f4,-4,-2)\n",
    "print(root)\n",
    "\n",
    "root=bisection(f4,1,2.5)\n",
    "print(root)"
   ]
  },
  {
   "cell_type": "markdown",
   "metadata": {
    "ExecuteTime": {
     "end_time": "2019-11-08T16:02:35.581640Z",
     "start_time": "2019-11-08T16:02:35.573553Z"
    }
   },
   "source": [
    "# Question 5\n",
    "\n",
    "The major issue with NewtonRaphson is that the tangent can actually make the algorithm diverge (going further from the roots).\n",
    "\n",
    "Try to make the algorithm more robust by combining it with the bisection algorithm to make sure we never go outside the root bracket"
   ]
  },
  {
   "cell_type": "code",
   "execution_count": 8,
   "metadata": {},
   "outputs": [],
   "source": [
    "def newtonRaphson(f,df,a,b,tol=10**-9):\n",
    "    #import error\n",
    "    from numpy import sign\n",
    "    \n",
    "    fa = f(a)\n",
    "    if fa == 0.0: return a\n",
    "    fb = f(b)\n",
    "    if fb == 0.0: return b\n",
    "    #if sign(fa) == sign(fb): error.err('Root is not bracketed')\n",
    "    x = 0.5*(a+b)\n",
    "    \n",
    "    for i in range(30):\n",
    "        fx = f(x)\n",
    "        if fx == 0.0: return x\n",
    "        #Tighten the brackets on the root\n",
    "        if sign(fa) != sign(fx): b = x\n",
    "        else: a = x\n",
    "        #Try a Netwton-Raphson step\n",
    "        dfx = df(x)\n",
    "        try: dx = -fx/dfx\n",
    "        except ZeroDivisionError: dx = b - a\n",
    "        x = x + dx\n",
    "        #If the result is outside the brackets, use bisection\n",
    "        if (b-x)*(x-a) < 0.0:\n",
    "            dx = 0.5*(b-a)\n",
    "            x = a + dx\n",
    "        if abs(dx) < tol*max(abs(b),1.0): return x\n",
    "    print('Too many iterations in Newton-Raphoson')"
   ]
  },
  {
   "cell_type": "code",
   "execution_count": 9,
   "metadata": {},
   "outputs": [
    {
     "name": "stdout",
     "output_type": "stream",
     "text": [
      "-3.045009359732806\n"
     ]
    },
    {
     "data": {
      "image/png": "[encoded data removed]",
      "text/plain": [
       "<Figure size 864x864 with 1 Axes>"
      ]
     },
     "metadata": {
      "needs_background": "light"
     },
     "output_type": "display_data"
    }
   ],
   "source": [
    "def f4(x): return x**3-1.2*x**2-8*x+15\n",
    "def df4(x): return 3*x**2-2.4*x-8\n",
    "\n",
    "fig, ax = plt.subplots(figsize=(12, 12))\n",
    "VisualInspection(ax, f4, -4, 3, 0.01, color=\"blue\", linestyle=\"-\")\n",
    "\n",
    "\n",
    "root=newtonRaphson(f4,df4,-4,3)\n",
    "print(root)"
   ]
  }
 ],
 "metadata": {
  "kernelspec": {
   "display_name": "Python 3",
   "language": "python",
   "name": "python3"
  },
  "language_info": {
   "codemirror_mode": {
    "name": "ipython",
    "version": 3
   },
   "file_extension": ".py",
   "mimetype": "text/x-python",
   "name": "python",
   "nbconvert_exporter": "python",
   "pygments_lexer": "ipython3",
   "version": "3.6.6"
  },
  "varInspector": {
   "cols": {
    "lenName": 16,
    "lenType": 16,
    "lenVar": 40
   },
   "kernels_config": {
    "python": {
     "delete_cmd_postfix": "",
     "delete_cmd_prefix": "del ",
     "library": "var_list.py",
     "varRefreshCmd": "print(var_dic_list())"
    },
    "r": {
     "delete_cmd_postfix": ") ",
     "delete_cmd_prefix": "rm(",
     "library": "var_list.r",
     "varRefreshCmd": "cat(var_dic_list()) "
    }
   },
   "types_to_exclude": [
    "module",
    "function",
    "builtin_function_or_method",
    "instance",
    "_Feature"
   ],
   "window_display": false
  }
 },
 "nbformat": 4,
 "nbformat_minor": 2
}
