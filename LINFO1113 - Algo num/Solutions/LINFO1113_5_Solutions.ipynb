{
 "cells": [
  {
   "cell_type": "markdown",
   "metadata": {
    "ExecuteTime": {
     "end_time": "2019-09-28T07:36:40.225864Z",
     "start_time": "2019-09-28T07:36:40.222658Z"
    }
   },
   "source": [
    "# Numerical Differentiation"
   ]
  },
  {
   "cell_type": "code",
   "execution_count": 3,
   "metadata": {
    "ExecuteTime": {
     "end_time": "2019-11-15T10:23:32.380839Z",
     "start_time": "2019-11-15T10:23:32.045402Z"
    }
   },
   "outputs": [],
   "source": [
    "%matplotlib inline\n",
    "import numpy as np\n",
    "import matplotlib.pyplot as plt\n"
   ]
  },
  {
   "cell_type": "markdown",
   "metadata": {},
   "source": [
    "## Question 1\n",
    "\n",
    "- a) Derive the first central-finite approximation for $f'$ and $f''$ with an accuracy of $O(h^2)$\n",
    "- b) Derive the first forward-finite approximation for $f'$ and $f''$ with an accuracy of $O(h)$\n",
    "- c) Derive the second forward-finite approximation for $f'$ and $f''$ with an accuracy of $O(h^2)$\n",
    "\n"
   ]
  },
  {
   "cell_type": "markdown",
   "metadata": {},
   "source": [
    "**Solutions:**\n",
    "\n",
    "$f(x+h) = f(x) + hf'(x) + \\frac{h^2f''(x)}{2} + \\frac{h^3f'''(x)}{6} + O(h^4)$\n",
    "\n",
    "a) For $f'$, we want to cancel the $O(h^2)$ term such as to have the final error in $\\frac{O(h^3)}{h}=O(h^2)$ \n",
    "\n",
    "As it is central difference, we use $f(x-h)$ and $f(x+h)$.\n",
    "\n",
    "$\\Rightarrow f(x+h)-f(x-h) = 2hf'(x) + O(h^3) \\Rightarrow f'(x)=\\frac{f(x+h)-f(x-h)}{2h} + O(h^2)$\n",
    "\n",
    "For $f''$, we want to cancel the $f'$ and $O(h^3)$ terms such as to not use $f'$ and have a final error in $\\frac{O(h^4)}{h^2}=O(h^2)$\n",
    " \n",
    "$\\Rightarrow f(x+h)+f(x-h)=2f(x)+h^2f''(x)+O(h^4) \\Rightarrow f''(x)=\\frac{f(x+h)+f(x-h)-2f(x)}{h^2} + O(h^2)$\n",
    "\n",
    "b) For $f'$, we just isolate $f'$ in the equation on top: $f'(x)=\\frac{f(x+h)-f(x)}{h} + O(h)$\n",
    "\n",
    "For $f''$, we have to cancel the $f'$ term.\n",
    "\n",
    "$\\Rightarrow f(x+2h) - 2f(x+h) = -f(x) + h^2f''(x) + O(h^3) \\Rightarrow f''(x)=\\frac{f(x)-2f(x+h)+f(x+2h)}{h^2} + O(h)$\n",
    "\n",
    "c) For $f'$, we have to cancel the $O(h^2)$ term: $f(x+2h)-4f(x+h)=-3f(x)-2hf'(x)+O(h^3) \\Rightarrow f'(x)=\\frac{-3f(x)+'f(x+h)-f(x+2h)}{2h} + O(h^2)$\n",
    "\n",
    "For $f''$, we have to cancel the $f'$ and $O(h^3)$ terms:\n",
    "\n",
    "$\\Rightarrow -5f(x+h)+4f(x+2h)-f(x+3h)=-2f(x)+h^2f''(x)+O(h^4) \\Rightarrow f''(x)=\\frac{2f(x)-5f(x+h)+4f(x+2h)-f(x+3h)}{h^2} + O(h^2)$"
   ]
  },
  {
   "cell_type": "markdown",
   "metadata": {
    "ExecuteTime": {
     "end_time": "2019-10-25T09:13:06.667523Z",
     "start_time": "2019-10-25T09:13:06.654875Z"
    }
   },
   "source": [
    "## Question 2\n",
    "\n",
    "Given the following data:\n",
    "\n",
    "| x | y |\n",
    "| --- | --- |\n",
    "| 2.36 | 0.85866|\n",
    "| 2.37 | 0.86289 |\n",
    "| 2.38 | 0.86710 |\n",
    "| 2.39 | 0.87129 |\n",
    "| 2.40 | 0.87680 |\n",
    "\n",
    "- a) Estimate $f'(2.38)$ and $f''(2.38)$ with an accuracy of $O(h^2)$\n",
    "- b) Estimate $f'(2.36)$ and $f''(2.36)$ with an accuracy of $O(h)$\n",
    "- c) Estimate $f'(2.36)$ and $f''(2.36)$ with an accuracy of $O(h^2)$\n",
    "\n",
    "- d) implement the three functions to make this calculations\n"
   ]
  },
  {
   "cell_type": "markdown",
   "metadata": {},
   "source": [
    "**Solutions:**\n",
    "\n",
    "a) $f'(x)=\\frac{f(x+h)-f(x-h)}{2h} = 0.42 + O(h^2)$\n",
    "\n",
    "$f''(x)=\\frac{f(x+h)+f(x-h)-2f(x)}{h^2} = -0.2 + O(h^2)$\n",
    "\n",
    "b) $f'(x)=\\frac{f(x+h)-f(x)}{h}= 0.423 + O(h)$\n",
    "\n",
    "$f''(x)=\\frac{f(x)-2f(x+h)+f(x+2h)}{h^2} = -0.2 + O(h)$\n",
    "\n",
    "c) $f'(x)=\\frac{-3f(x)+4f(x+h)-f(x+2h)}{2h}= 0.424 + O(h^2)$\n",
    "\n",
    "$f''(x)=\\frac{2f(x)-5f(x+h)+4f(x+2h)-f(x+3h)}{h^2}= -0.2 + O(h^2)$"
   ]
  },
  {
   "cell_type": "code",
   "execution_count": 13,
   "metadata": {},
   "outputs": [
    {
     "name": "stdout",
     "output_type": "stream",
     "text": [
      "0.41999999999998844\n",
      "-0.19999999999908058\n",
      "\n",
      "0.42299999999999693\n",
      "-0.20000000000130103\n",
      "\n",
      "0.4240000000000035\n",
      "-0.2000000000001908\n"
     ]
    }
   ],
   "source": [
    "ys = [0.85866,0.86289,0.8671,0.87129,0.8768]\n",
    "xs = [2.36,2.37,2.38,2.39,2.40]\n",
    "h=xs[1]-xs[0]\n",
    "\n",
    "\n",
    "def first_CP(xs,ys,x):\n",
    "    index = xs.index(x)\n",
    "    return (ys[index+1]-ys[index-1])/(2*h)\n",
    "\n",
    "def first_CPP(xs,ys,x):\n",
    "    index = xs.index(x)\n",
    "    return (ys[index+1]+ys[index-1]-2*ys[index])/(h**2)\n",
    "\n",
    "print(first_CP(xs,ys,2.38))\n",
    "print(first_CPP(xs,ys,2.38))\n",
    "print()\n",
    "\n",
    "def first_FP(xs,ys,x):\n",
    "    index = xs.index(x)\n",
    "    return (ys[index+1]-ys[index])/(h)\n",
    "\n",
    "def first_FPP(xs,ys,x):\n",
    "    index = xs.index(x)\n",
    "    return (ys[index+2]-2*ys[index+1]+ys[index])/(h**2)\n",
    "\n",
    "print(first_FP(xs,ys,2.36))\n",
    "print(first_FPP(xs,ys,2.36))\n",
    "print()\n",
    "\n",
    "def second_FP(xs,ys,x):\n",
    "    index = xs.index(x)\n",
    "    return (-3*ys[index]+4*ys[index+1]-ys[index+2])/(2*h)\n",
    "\n",
    "def second_FPP(xs,ys,x):\n",
    "    index = xs.index(x)\n",
    "    return (2*ys[index]-5*ys[index+1]+4*ys[index+2]-ys[index+3])/(h**2)\n",
    "\n",
    "print(second_FP(xs,ys,2.36))\n",
    "print(second_FPP(xs,ys,2.36))    "
   ]
  },
  {
   "cell_type": "markdown",
   "metadata": {},
   "source": [
    "## Question 3\n",
    "\n",
    "| x | y |\n",
    "| --- | --- |\n",
    "| 0.97 | 0.85040 |\n",
    "| 1.00 | 0.84147 |\n",
    "| 1.05 | 0.82612 |\n",
    "\n",
    "- Estimate $f'(1.0)$ and $f''(1.0)$\n",
    "\n",
    "Hint: use a polynomial interpolant\n",
    "\n"
   ]
  },
  {
   "cell_type": "markdown",
   "metadata": {},
   "source": [
    "**Solutions:**\n",
    "\n",
    "We can interpolate the data by a polynomial of degree 2. This leads to the 3 equations below:\n",
    "\n",
    "$$\\left\\{\\begin{array}{l}\n",
    "a + 0.97 \\cdot b + 0.9409 \\cdot c = 0.8504\\\\\n",
    "a + b + c = 0.84147 \\\\\n",
    "a + 1.05 \\cdot b + 1.1025 \\cdot c = 0.82612\n",
    "\\end{array}\\right.$$\n",
    "\n",
    "$\\Rightarrow y(x) = 1.03 -0.07x -0.12x^2 \\Rightarrow y'(x)=-0.24x-0.07 \\Rightarrow y''(x)=-0.24$\n",
    "\n",
    "$\\Rightarrow f'(1) = -0.31, f''(1)=-0.24$"
   ]
  },
  {
   "cell_type": "markdown",
   "metadata": {
    "ExecuteTime": {
     "end_time": "2019-11-15T10:36:40.804568Z",
     "start_time": "2019-11-15T10:36:40.796398Z"
    }
   },
   "source": [
    "## Question 4\n",
    "\n",
    "- Derive the central difference approximation for $f''(x)$ accurate to $O(h^4)$ by applying Richardson extrapolation to the central difference approximation of $O(h^2)$\n"
   ]
  },
  {
   "cell_type": "markdown",
   "metadata": {},
   "source": [
    "**Solution:**\n",
    "\n",
    "Richardson extrapolation combines an estimation $g$ of $f''(x)$ with $h$ and $\\frac h 2$:\n",
    "\n",
    "$$f''(x) \\approx \\frac{2^p g \\left(\\frac h 2 \\right) - g(h)}{2^p - 1}$$\n",
    "\n",
    "Since we want an accuracy to $O(h^4)$, our estimates must be $O(h^2) \\Rightarrow p = 2$.\n",
    "\n",
    "We use the first central difference approximation of $f''(x)$:\n",
    "\n",
    "$$g(h) = \\frac{f(x-h) - 2 f(x) + f(x+h)}{h^2}$$\n",
    "\n",
    "Putting everything together, we get:\n",
    "\n",
    "$$f''(x) \\approx \\frac{- f(x-h) + 16 f\\left(x-\\frac h 2\\right) - 30 f(x) + 16 f\\left(x+\\frac h 2\\right) - f(x+h)}{3 h^2}$$"
   ]
  },
  {
   "cell_type": "markdown",
   "metadata": {
    "ExecuteTime": {
     "end_time": "2019-11-08T16:02:35.581640Z",
     "start_time": "2019-11-08T16:02:35.573553Z"
    }
   },
   "source": [
    "# Question 5\n",
    "\n",
    "Given the data: \n",
    "\n",
    "| x | y |\n",
    "| --- | --- |\n",
    "| 0.0 | 0.000000 |\n",
    "| 0.1 | 0.078348 |\n",
    "| 0.2 | 0.138910 |\n",
    "| 0.3 | 0.192916 |\n",
    "| 0.4 | 0.244981 |\n",
    "\n",
    "- Calculate f'(0.2) as accurately as possible\n"
   ]
  },
  {
   "cell_type": "markdown",
   "metadata": {},
   "source": [
    "**Solution:**\n",
    "\n",
    "Since we have 5 points, we can use Richardson to combine 2 estimates. Since we have points before and after 0.2, we can use the first central difference for $g$.\n",
    "\n",
    "$g(h = 0.1) = \\frac{f(0.3) - f(0.1)}{0.2} = 0.57284$\n",
    "\n",
    "$g(h = 0.2) = \\frac{f(0.4) - f(0.0)}{0.4} = 0.6124525$\n",
    "\n",
    "$f'(0.2) \\approx \\frac{2^2 g(h = 0.1) - g(h = 0.2)}{2^2 - 1} = 0.559635834$\n",
    "\n",
    "Since the first central difference is accurate to $O(h^2)$, the end result with Richardson is accurate to $O(h^4)$."
   ]
  },
  {
   "cell_type": "code",
   "execution_count": null,
   "metadata": {},
   "outputs": [],
   "source": []
  }
 ],
 "metadata": {
  "kernelspec": {
   "display_name": "Python 3",
   "language": "python",
   "name": "python3"
  },
  "language_info": {
   "codemirror_mode": {
    "name": "ipython",
    "version": 3
   },
   "file_extension": ".py",
   "mimetype": "text/x-python",
   "name": "python",
   "nbconvert_exporter": "python",
   "pygments_lexer": "ipython3",
   "version": "3.6.6"
  },
  "varInspector": {
   "cols": {
    "lenName": 16,
    "lenType": 16,
    "lenVar": 40
   },
   "kernels_config": {
    "python": {
     "delete_cmd_postfix": "",
     "delete_cmd_prefix": "del ",
     "library": "var_list.py",
     "varRefreshCmd": "print(var_dic_list())"
    },
    "r": {
     "delete_cmd_postfix": ") ",
     "delete_cmd_prefix": "rm(",
     "library": "var_list.r",
     "varRefreshCmd": "cat(var_dic_list()) "
    }
   },
   "types_to_exclude": [
    "module",
    "function",
    "builtin_function_or_method",
    "instance",
    "_Feature"
   ],
   "window_display": false
  }
 },
 "nbformat": 4,
 "nbformat_minor": 2
}
