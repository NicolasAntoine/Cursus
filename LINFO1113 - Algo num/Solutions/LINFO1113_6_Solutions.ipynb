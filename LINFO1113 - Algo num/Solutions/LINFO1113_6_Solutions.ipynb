{
 "cells": [
  {
   "cell_type": "markdown",
   "metadata": {
    "ExecuteTime": {
     "end_time": "2019-09-28T07:36:40.225864Z",
     "start_time": "2019-09-28T07:36:40.222658Z"
    }
   },
   "source": [
    "# Numerical Integration"
   ]
  },
  {
   "cell_type": "code",
   "execution_count": 2,
   "metadata": {
    "ExecuteTime": {
     "end_time": "2019-11-15T10:23:32.380839Z",
     "start_time": "2019-11-15T10:23:32.045402Z"
    }
   },
   "outputs": [],
   "source": [
    "%matplotlib inline\n",
    "import numpy as np\n",
    "import matplotlib.pyplot as plt\n"
   ]
  },
  {
   "cell_type": "markdown",
   "metadata": {},
   "source": [
    "## Question 1\n",
    "\n",
    "- a) Derivate the trapezoidal rule from Newton-Cotes ($n=1$)\n",
    "- b) Derivate the Simpson 1/3 rule from Newton-Cotes ($n=2$)\n"
   ]
  },
  {
   "cell_type": "markdown",
   "metadata": {},
   "source": [
    "**Solution:**\n",
    "\n",
    "Newton-Cotes approximates $f(x)$ py a polynomial of degree $n$:\n",
    "$$f(x) \\approx \\sum_{i=0}^n f(x_i) l_i(x) \\text{ with } l_i(x) = \\prod_{j \\neq i}\\frac{x - x_j}{x_i - x_j}$$\n",
    "The approximation of the integral is thus:\n",
    "$$I \\approx \\sum_{i=0}^n f(x_i) \\underbrace{\\int_a^b l_i(x) \\,\\mathrm{d}x}_{A_i}$$\n",
    "\n",
    "- a) For $n = 1$ (trapezoidal rule):\n",
    "\n",
    "$$l_0 = \\frac{(x - b)}{-h} \\Longrightarrow A_0 = \\frac{1}{2h} (b - a)^2 = \\frac h 2$$\n",
    "\n",
    "$$l_1 = \\frac{(x - a)}{h} \\Longrightarrow A_1 = \\frac{1}{2h} (b - a)^2 = \\frac h 2$$\n",
    "\n",
    "$$\\Longrightarrow I \\approx \\frac h 2 \\big( f(a) + f(b) \\big)$$\n",
    "\n",
    "- b) For $n = 2$ (Simpson 1/3 rule):\n",
    "\n",
    "$$l_0 = \\frac{\\left( x - \\frac{a+b}2 \\right)(x - b)}{2h^2} \\Longrightarrow A_0 = \\frac h 3$$\n",
    "\n",
    "$$l_1 = \\frac{(x - a)(x - b)}{-h^2} \\Longrightarrow A_1 = \\frac {4h} 3$$\n",
    "\n",
    "$$l_2 = \\frac{(x - a)\\left( x - \\frac{a+b}2 \\right)}{2h^2} \\Longrightarrow A_2 = \\frac h 3$$\n",
    "\n",
    "$$\\Longrightarrow I \\approx \\frac h 3 \\left( f(a) + 4 f \\Big(\\frac{a+b}2\\Big) + f(b) \\right)$$"
   ]
  },
  {
   "cell_type": "markdown",
   "metadata": {
    "ExecuteTime": {
     "end_time": "2019-10-25T09:13:06.667523Z",
     "start_time": "2019-10-25T09:13:06.654875Z"
    }
   },
   "source": [
    "## Question 2\n",
    "\n",
    "- a) Implement the composite trapezoidal rule\n",
    "- b) Do the same using a recursive trapzoidal rule\n",
    "- c) Use both implementation to compute the integral of $\\ln(1 + \\tan x)$ from $0$ to $\\frac \\pi 4$.  Which one run faster ?\n"
   ]
  },
  {
   "cell_type": "code",
   "execution_count": 3,
   "metadata": {},
   "outputs": [
    {
     "name": "stdout",
     "output_type": "stream",
     "text": [
      "17\n",
      "0.27219826128795027\n",
      "17\n",
      "0.2721982612879502\n",
      "Comp exe time: 0.28204917907714844 ms\n",
      "Rec exe time: 0.15854835510253906 ms\n"
     ]
    }
   ],
   "source": [
    "from time import time\n",
    "\n",
    "def trapezoid_comp(f, a, b, n):\n",
    "    h = (b - a) / n\n",
    "    x = a\n",
    "    I = 0\n",
    "    c = 1\n",
    "    fx = f(x)\n",
    "    for _ in range(n):\n",
    "        fxh = f(x + h)\n",
    "        I += fx + fxh\n",
    "        x += h\n",
    "        fx = fxh\n",
    "        c = c + 1\n",
    "    print(c)\n",
    "    return h/2 * I\n",
    "\n",
    "\n",
    "def trapezoid_rec(f, a, b, k, c=0):\n",
    "    if k == 1:\n",
    "        c += 2\n",
    "        print(c)\n",
    "        return (f(a) + f(b)) * (b - a) / 2\n",
    "    n = 2 ** (k - 2)\n",
    "    h = (b - a) / n\n",
    "    x = a + h/2\n",
    "    s = 0\n",
    "    for _ in range(n):\n",
    "        s += f(x)\n",
    "        c += 1\n",
    "        x += h\n",
    "    return (trapezoid_rec(f, a, b, k-1,c) + h*s) / 2\n",
    "\n",
    "\n",
    "def f(x): \n",
    "    return np.log(1 + np.tan(x))\n",
    "\n",
    "t0 = time()\n",
    "print(trapezoid_comp(f, 0, np.pi / 4, 16))\n",
    "t1 = time()\n",
    "print(trapezoid_rec(f, 0, np.pi / 4, 5))\n",
    "t2 = time()\n",
    "print(\"Comp exe time: \" + str((t1 - t0) * 1e3) + \" ms\")\n",
    "print(\"Rec exe time: \" + str((t2 - t1) * 1e3) + \" ms\")\n"
   ]
  },
  {
   "cell_type": "markdown",
   "metadata": {},
   "source": [
    "## Question 3\n",
    "\n",
    "Evaluate the integral of $\\cos(2 \\cos^{−1} x)$ from $-1$ to $1$ with Simpson’s 1/3 rule using two, four, and six\n",
    "panels. Explain the results."
   ]
  },
  {
   "cell_type": "code",
   "execution_count": 4,
   "metadata": {},
   "outputs": [
    {
     "name": "stdout",
     "output_type": "stream",
     "text": [
      "-1.1196854554190074\n",
      "-1.2884087548681498\n",
      "-1.339188110791998\n",
      "-1.355011028796083\n",
      "-1.3607412047898517\n",
      "-1.3631096493137569\n",
      "-1.364200885700604\n",
      "-1.3647503670372387\n",
      "-1.3655364736135815\n",
      "-1.3655439592904242\n",
      "-1.3655444513696322\n"
     ]
    }
   ],
   "source": [
    "import numpy as np\n",
    "\n",
    "def simpson_comp(f, a, b, n):\n",
    "    h = (b - a) / n\n",
    "    x = a\n",
    "    I = 0\n",
    "    for _ in range(0, n, 2):\n",
    "        I += f(x) + 4*f(x + h) + f(x + 2*h)\n",
    "        x += 2*h\n",
    "    return h/3 * I\n",
    "\n",
    "def g(x): \n",
    "    return np.cos(2 * (1 / np.cos(x)))\n",
    "\n",
    "print(simpson_comp(g, -1, 1, 2))\n",
    "print(simpson_comp(g, -1, 1, 4))\n",
    "print(simpson_comp(g, -1, 1, 6))\n",
    "print(simpson_comp(g, -1, 1, 8))\n",
    "print(simpson_comp(g, -1, 1, 10))\n",
    "print(simpson_comp(g, -1, 1, 12))\n",
    "print(simpson_comp(g, -1, 1, 14))\n",
    "print(simpson_comp(g, -1, 1, 16))\n",
    "print(simpson_comp(g, -1, 1, 50))\n",
    "print(simpson_comp(g, -1, 1, 100))\n",
    "print(simpson_comp(g, -1, 1, 1000))"
   ]
  },
  {
   "cell_type": "markdown",
   "metadata": {
    "ExecuteTime": {
     "end_time": "2019-11-15T10:36:40.804568Z",
     "start_time": "2019-11-15T10:36:40.796398Z"
    }
   },
   "source": [
    "## Question 4\n",
    "\n",
    "Evaluate the integral of $\\cos(2 \\cos^{−1} x)$ from $-1$ to $1$ using Romberg Integration\n",
    "How many steps are necessary to achieve convergence ?\n"
   ]
  },
  {
   "cell_type": "code",
   "execution_count": 5,
   "metadata": {},
   "outputs": [
    {
     "data": {
      "text/plain": [
       "array([-1.69446902, -1.11968546, -1.29965697, -1.36040029, -1.36551405,\n",
       "       -1.36554826, -1.3655445 , -1.36554445, -1.36554445, -1.36554445])"
      ]
     },
     "execution_count": 5,
     "metadata": {},
     "output_type": "execute_result"
    }
   ],
   "source": [
    "def romberg(f,n,a,b):\n",
    "    H = b-a\n",
    "    R = np.zeros(shape = (n,n))\n",
    "    R[0,0] = (f(a)+f(b))*((b-a)/2)\n",
    "    \n",
    "    for k in range(2,n+1):\n",
    "        ks = np.arange(1,2**(k-2)+1)\n",
    "        points = a + (2*(ks)-1)*H/(2**(k-1))\n",
    "        s = H/(2**(k-1))*sum(f(points))\n",
    "        R[k-1,0] = R[k-2,0]/2 + s\n",
    "        \n",
    "        for k2 in range(2,k+1):\n",
    "            R[k-1,k2-1] = (4**(k2-1)*R[k-1,k2-2] - R[k-2,k2-2])/(4**(k2-1)-1)\n",
    "        \n",
    "        \n",
    "    #print(R)\n",
    "    return np.diag(R)\n",
    "\n",
    "def f(x): return np.cos(2 * (1 / np.cos(x)))\n",
    "\n",
    "romberg(f,10,-1,1)\n",
    "    "
   ]
  },
  {
   "cell_type": "markdown",
   "metadata": {
    "ExecuteTime": {
     "end_time": "2019-11-08T16:02:35.581640Z",
     "start_time": "2019-11-08T16:02:35.573553Z"
    }
   },
   "source": [
    "## Question 5\n",
    "\n",
    "Given the data: \n",
    "\n",
    "| x | f(x) |\n",
    "| --- | --- |\n",
    "| 0.0 | 1.0000 |\n",
    "| $\\frac \\pi 4 $ | 0.3431 |\n",
    "| $\\frac \\pi 2 $ | 0.2500 |\n",
    "| $\\frac {3\\pi} 4$ | 0.3431 |\n",
    "| $ \\pi $ | 1.000 |\n",
    "\n",
    "- evaluate the integral of $f(x)$ from $0$ to $\\pi$ as precisely as possible\n"
   ]
  },
  {
   "cell_type": "markdown",
   "metadata": {
    "ExecuteTime": {
     "end_time": "2019-11-08T16:02:35.581640Z",
     "start_time": "2019-11-08T16:02:35.573553Z"
    }
   },
   "source": [
    "**Solutions**\n",
    "\n",
    "We can use Romberg Integration until k=3."
   ]
  },
  {
   "cell_type": "code",
   "execution_count": 6,
   "metadata": {},
   "outputs": [
    {
     "data": {
      "text/plain": [
       "array([3.14159265, 1.57079633, 1.3599047 ])"
      ]
     },
     "execution_count": 6,
     "metadata": {},
     "output_type": "execute_result"
    }
   ],
   "source": [
    "def f(x):\n",
    "    if x == 0.0: return 1\n",
    "    elif x == np.pi/4: return 0.3431\n",
    "    elif x == np.pi/2: return 0.25\n",
    "    elif x == 3*np.pi/4: return 0.3431\n",
    "    elif x == np.pi: return 1\n",
    "    print(\"ERROR\")\n",
    "    print(x)\n",
    "    \n",
    "f = np.vectorize(f)\n",
    "\n",
    "romberg(f,3,0,np.pi)"
   ]
  },
  {
   "cell_type": "markdown",
   "metadata": {},
   "source": [
    "## Question 6\n",
    "\n",
    "- Use Gauss-Laguerre quadrature to evaluate the integral of $(1 − x^2)^3 e^{−x}$ from $0$ to $\\infty$"
   ]
  },
  {
   "cell_type": "markdown",
   "metadata": {},
   "source": [
    "**Solutions**\n",
    "\n",
    "Using the table from the slides, with n=3 -> exact integral because (1-x^2)^3 is a polynomial of degree 2*3+1 or less."
   ]
  },
  {
   "cell_type": "code",
   "execution_count": 17,
   "metadata": {},
   "outputs": [
    {
     "name": "stdout",
     "output_type": "stream",
     "text": [
      "-652.9339577765277\n",
      "-652.9870382069656\n",
      "-652.9997793173131\n"
     ]
    }
   ],
   "source": [
    "def f(x): return (1-x**2)**3\n",
    "\n",
    "I = 0.603154*f(0.322548) + 0.357418*f(1.745761) + 0.0388791*f(4.536620) + f(9.395071)*0.000539295\n",
    "print(I)\n",
    "I = 0.521756*f(0.263560) + 0.398667*f(1.413403) + 0.0759424*f(3.596426) + 0.00361175*f(7.085810) + 0.0000233670*f(12.640801)\n",
    "print(I)\n",
    "\n",
    "I = 0.458964*f(0.222847) + 0.417*f(1.188932) + 0.113373*f(2.992736) + 0.0103992*f(5.775144) + 0.000261017*f(9.837467)+0.000000898548*f(15.982874)\n",
    "print(I)"
   ]
  },
  {
   "cell_type": "code",
   "execution_count": null,
   "metadata": {},
   "outputs": [],
   "source": []
  }
 ],
 "metadata": {
  "kernelspec": {
   "display_name": "Python 3",
   "language": "python",
   "name": "python3"
  },
  "language_info": {
   "codemirror_mode": {
    "name": "ipython",
    "version": 3
   },
   "file_extension": ".py",
   "mimetype": "text/x-python",
   "name": "python",
   "nbconvert_exporter": "python",
   "pygments_lexer": "ipython3",
   "version": "3.6.6"
  },
  "varInspector": {
   "cols": {
    "lenName": 16,
    "lenType": 16,
    "lenVar": 40
   },
   "kernels_config": {
    "python": {
     "delete_cmd_postfix": "",
     "delete_cmd_prefix": "del ",
     "library": "var_list.py",
     "varRefreshCmd": "print(var_dic_list())"
    },
    "r": {
     "delete_cmd_postfix": ") ",
     "delete_cmd_prefix": "rm(",
     "library": "var_list.r",
     "varRefreshCmd": "cat(var_dic_list()) "
    }
   },
   "types_to_exclude": [
    "module",
    "function",
    "builtin_function_or_method",
    "instance",
    "_Feature"
   ],
   "window_display": false
  }
 },
 "nbformat": 4,
 "nbformat_minor": 2
}
